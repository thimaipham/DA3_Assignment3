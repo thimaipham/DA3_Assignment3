{
 "cells": [
  {
   "cell_type": "code",
   "execution_count": 1,
   "id": "1a84e194",
   "metadata": {},
   "outputs": [],
   "source": [
    "import pandas as pd\n",
    "import numpy as np\n",
    "from sklearn.model_selection import train_test_split\n",
    "from sklearn.linear_model import LogisticRegression\n",
    "from sklearn.metrics import accuracy_score, roc_auc_score, roc_curve\n",
    "import matplotlib.pyplot as plt\n",
    "import warnings\n",
    "warnings.filterwarnings(\"ignore\")"
   ]
  },
  {
   "cell_type": "code",
   "execution_count": 2,
   "id": "02f9601e",
   "metadata": {},
   "outputs": [],
   "source": [
    "data = pd.read_csv('cs_bisnode_panel.csv')"
   ]
  },
  {
   "cell_type": "markdown",
   "id": "64db737a",
   "metadata": {},
   "source": [
    "# 1. Data Exploration & Data Featuring"
   ]
  },
  {
   "cell_type": "markdown",
   "id": "46135373",
   "metadata": {},
   "source": [
    "### 1.1. Construct Hold-out sample"
   ]
  },
  {
   "cell_type": "code",
   "execution_count": 3,
   "id": "c91da2c5",
   "metadata": {},
   "outputs": [
    {
     "name": "stdout",
     "output_type": "stream",
     "text": [
      "Number of defaulted firms: 56\n",
      "Number of survived firms: 981\n",
      "Total firms: 1037\n",
      "Average sales (million EUR): 0.49020221792682\n",
      "Minimum sales (million EUR): 0.001070370361328125\n",
      "Maximum sales (million EUR): 9.576485\n"
     ]
    }
   ],
   "source": [
    "# Filter data for the industry of interest (Manufacture of computer, electronic and optical products) and for the year 2014\n",
    "data_filtered = data[(data['ind2'] == 26) & (data['year'] == 2014)]\n",
    "\n",
    "# Filter SMEs with sales between 1000 EUR and 10 million EUR in 2014\n",
    "sme_2014 = data_filtered[(data_filtered['sales'] >= 1000) & (data_filtered['sales'] <= 10e6)]\n",
    "\n",
    "# Prepare data for 2015 to check for existence and sales in 2015\n",
    "sales_2015_full = data[(data['ind2'] == 26) & (data['year'] == 2015)][['comp_id', 'sales']]\n",
    "\n",
    "# Identify SMEs from 2014 that either do not exist in 2015 or have sales equal to 0 in 2015\n",
    "sme_2014_comp_ids = sme_2014['comp_id'].unique()\n",
    "sales_2015_existence = sales_2015_full[sales_2015_full['comp_id'].isin(sme_2014_comp_ids)]\n",
    "\n",
    "# Firms that do not exist in 2015 data\n",
    "defaulted_firms_ids = sme_2014_comp_ids[~np.isin(sme_2014_comp_ids, sales_2015_existence['comp_id'])]\n",
    "\n",
    "# Firms with zero sales in 2015 from the list of existing firms\n",
    "defaulted_due_to_zero_sales = sales_2015_existence[sales_2015_existence['sales'].fillna(0) <= 0]['comp_id'].unique()\n",
    "\n",
    "# Combine the lists to get the final list of defaulted firms\n",
    "all_defaulted_firms_ids = np.unique(np.concatenate((defaulted_firms_ids, defaulted_due_to_zero_sales)))\n",
    "\n",
    "# Calculate the final numbers\n",
    "num_defaulted_final = len(all_defaulted_firms_ids)\n",
    "num_survived_final = len(sme_2014_comp_ids) - num_defaulted_final\n",
    "total_firms = len(sme_2014_comp_ids)\n",
    "average_sales = sme_2014['sales'].mean() / 1e6  # Convert to million EUR\n",
    "min_sales = sme_2014['sales'].min() / 1e6  # Convert to million EUR\n",
    "max_sales = sme_2014['sales'].max() / 1e6  # Convert to million EUR\n",
    "\n",
    "# Print the final results\n",
    "print(f\"Number of defaulted firms: {num_defaulted_final}\")\n",
    "print(f\"Number of survived firms: {num_survived_final}\")\n",
    "print(f\"Total firms: {total_firms}\")\n",
    "print(f\"Average sales (million EUR): {average_sales}\")\n",
    "print(f\"Minimum sales (million EUR): {min_sales}\")\n",
    "print(f\"Maximum sales (million EUR): {max_sales}\")\n"
   ]
  },
  {
   "cell_type": "markdown",
   "id": "e6a2affa",
   "metadata": {},
   "source": [
    "### 1.2. Design data sample for training and testing\n",
    "- Filter Data for Years Before 2014: Select data from 2013 and earlier. This ensures that we do not use any information from the hold-out sample for training the model.\n",
    "- Select Industry: Focus on industry ind2 == 26, similar to what we did with the hold-out sample.\n",
    "- Identifying SMEs: Just like with the hold-out sample, we will identify SMEs based on revenue in 2013."
   ]
  },
  {
   "cell_type": "code",
   "execution_count": 4,
   "id": "00df9310",
   "metadata": {},
   "outputs": [
    {
     "data": {
      "text/plain": [
       "((9689, 48),\n",
       "        comp_id  year         sales\n",
       " 960  6538183.0  2005  29288.888672\n",
       " 961  6538183.0  2006  35929.628906\n",
       " 962  6538183.0  2007  31729.628906\n",
       " 963  6538183.0  2008  35703.703125\n",
       " 964  6538183.0  2009  43062.964844)"
      ]
     },
     "execution_count": 4,
     "metadata": {},
     "output_type": "execute_result"
    }
   ],
   "source": [
    "# Industry ind2 == 26 and years before 2014\n",
    "data_pre_2014 = data[(data['ind2'] == 26) & (data['year'] < 2014)]\n",
    "\n",
    "# Filter based on revernues from 1000 EUR đến 10M EUR\n",
    "sme_pre_2014 = data_pre_2014[(data_pre_2014['sales'] >= 1000) & (data_pre_2014['sales'] <= 10e6)]\n",
    "\n",
    "# Check the size of sample\n",
    "sme_pre_2014_shape = sme_pre_2014.shape\n",
    "sme_pre_2014_info = sme_pre_2014[['comp_id', 'year', 'sales']].head()\n",
    "\n",
    "(sme_pre_2014_shape, sme_pre_2014_info)\n"
   ]
  },
  {
   "cell_type": "markdown",
   "id": "9622cf04",
   "metadata": {},
   "source": [
    "### 1.3. Data Featuring and Missing values"
   ]
  },
  {
   "cell_type": "code",
   "execution_count": 8,
   "id": "6264182b",
   "metadata": {},
   "outputs": [
    {
     "data": {
      "text/html": [
       "<div>\n",
       "<style scoped>\n",
       "    .dataframe tbody tr th:only-of-type {\n",
       "        vertical-align: middle;\n",
       "    }\n",
       "\n",
       "    .dataframe tbody tr th {\n",
       "        vertical-align: top;\n",
       "    }\n",
       "\n",
       "    .dataframe thead th {\n",
       "        text-align: right;\n",
       "    }\n",
       "</style>\n",
       "<table border=\"1\" class=\"dataframe\">\n",
       "  <thead>\n",
       "    <tr style=\"text-align: right;\">\n",
       "      <th></th>\n",
       "      <th>Current Ratio</th>\n",
       "      <th>Net Profit Margin</th>\n",
       "      <th>Debt to Equity Ratio</th>\n",
       "      <th>Firm Age</th>\n",
       "    </tr>\n",
       "  </thead>\n",
       "  <tbody>\n",
       "    <tr>\n",
       "      <th>960</th>\n",
       "      <td>17.914893</td>\n",
       "      <td>-0.039074</td>\n",
       "      <td>0.046305</td>\n",
       "      <td>21</td>\n",
       "    </tr>\n",
       "    <tr>\n",
       "      <th>961</th>\n",
       "      <td>13.295082</td>\n",
       "      <td>0.015772</td>\n",
       "      <td>0.055886</td>\n",
       "      <td>21</td>\n",
       "    </tr>\n",
       "    <tr>\n",
       "      <th>962</th>\n",
       "      <td>3.415730</td>\n",
       "      <td>0.026497</td>\n",
       "      <td>0.298407</td>\n",
       "      <td>21</td>\n",
       "    </tr>\n",
       "    <tr>\n",
       "      <th>963</th>\n",
       "      <td>4.665919</td>\n",
       "      <td>0.010477</td>\n",
       "      <td>0.179333</td>\n",
       "      <td>21</td>\n",
       "    </tr>\n",
       "    <tr>\n",
       "      <th>964</th>\n",
       "      <td>2.087973</td>\n",
       "      <td>0.034661</td>\n",
       "      <td>0.814187</td>\n",
       "      <td>21</td>\n",
       "    </tr>\n",
       "  </tbody>\n",
       "</table>\n",
       "</div>"
      ],
      "text/plain": [
       "     Current Ratio  Net Profit Margin  Debt to Equity Ratio  Firm Age\n",
       "960      17.914893          -0.039074              0.046305        21\n",
       "961      13.295082           0.015772              0.055886        21\n",
       "962       3.415730           0.026497              0.298407        21\n",
       "963       4.665919           0.010477              0.179333        21\n",
       "964       2.087973           0.034661              0.814187        21"
      ]
     },
     "execution_count": 8,
     "metadata": {},
     "output_type": "execute_result"
    }
   ],
   "source": [
    "# Xử lý giá trị thiếu bằng cách thay thế bằng 0 cho các cột liên quan\n",
    "sme_pre_2014_filled = sme_pre_2014.copy()\n",
    "\n",
    "# Chuyển đổi cột founded_date từ chuỗi sang datetime\n",
    "sme_pre_2014_filled['founded_date'] = pd.to_datetime(sme_pre_2014_filled['founded_date'], errors='coerce')\n",
    "\n",
    "# Tính toán Firm Age sử dụng founded_date\n",
    "sme_pre_2014_filled['Firm Age'] = 2013 - sme_pre_2014_filled['founded_date'].dt.year\n",
    "\n",
    "# Tạo biến chỉ báo cho các cột có giá trị 0\n",
    "for col in columns_with_zeros:\n",
    "    flag_col = col + '_flag'\n",
    "    sme_pre_2014_filled[flag_col] = (sme_pre_2014_filled[col] == 0).astype(int)\n",
    "    sme_pre_2014_filled[col].replace(0, np.nan, inplace=True) \n",
    "    \n",
    "# Tính toán các đặc trưng mới, sử dụng các cột đã được sửa để tránh chia cho 0\n",
    "sme_pre_2014_filled['Current Ratio'] = sme_pre_2014_filled['curr_assets'] / sme_pre_2014_filled['curr_liab']\n",
    "sme_pre_2014_filled['Net Profit Margin'] = sme_pre_2014_filled['profit_loss_year'] / sme_pre_2014_filled['sales']\n",
    "sme_pre_2014_filled['Debt to Equity Ratio'] = sme_pre_2014_filled['curr_liab'] / sme_pre_2014_filled['share_eq']\n",
    "\n",
    "# Hiển thị một số dòng dữ liệu sau khi thêm các đặc trưng mới\n",
    "sme_pre_2014_filled[['Current Ratio', 'Net Profit Margin', 'Debt to Equity Ratio', 'Firm Age']].head()\n"
   ]
  },
  {
   "cell_type": "code",
   "execution_count": 7,
   "id": "ee4ca18a",
   "metadata": {},
   "outputs": [
    {
     "name": "stdout",
     "output_type": "stream",
     "text": [
      "         comp_id  current_ratio  net_profit_margin  debt_to_equity_ratio  \\\n",
      "969    6538183.0       5.598051           0.083408              0.175352   \n",
      "1128   8416055.0      15.283726          -0.072277              0.064558   \n",
      "1467  12428378.0       0.000000          -2.670686             -0.185762   \n",
      "1706  17776540.0       0.866408           0.017085              1.144598   \n",
      "1735  18626760.0       2.079793           0.037247              0.634148   \n",
      "\n",
      "      firm_age  \n",
      "969       22.0  \n",
      "1128      19.0  \n",
      "1467      23.0  \n",
      "1706      17.0  \n",
      "1735       4.0  \n"
     ]
    }
   ],
   "source": [
    "# Filter the data for the year 2014\n",
    "data_2014 = data[data['year'] == 2014]\n",
    "\n",
    "# Calculate Liquidity Ratio (Current Ratio)\n",
    "# Current Ratio = Current Assets / Current Liabilities\n",
    "data_2014['current_ratio'] = data_2014['curr_assets'] / data_2014['curr_liab']\n",
    "\n",
    "# Calculate Profitability Ratio (Net Profit Margin)\n",
    "# Net Profit Margin = Profit/Loss for the Year / Total Sales\n",
    "data_2014['net_profit_margin'] = data_2014['profit_loss_year'] / data_2014['sales']\n",
    "\n",
    "# Calculate Leverage Ratio (Debt to Equity Ratio)\n",
    "# Debt to Equity Ratio = Current Liabilities / Shareholder's Equity\n",
    "data_2014['debt_to_equity_ratio'] = data_2014['curr_liab'] / data_2014['share_eq']\n",
    "\n",
    "# Calculate Firm Age\n",
    "# Firm Age = Year of Data (2014) - Year Firm was Founded\n",
    "data_2014['firm_age'] = 2014 - data_2014['founded_year']\n",
    "\n",
    "# Filter the dataset for SMEs in the 'Manufacture of computer, electronic and optical products' industry (ind2 == 26)\n",
    "# and for firms that have sales between 1000 EUR and 10 million EUR\n",
    "sme_2014 = data_2014[(data_2014['sales'] >= 1000) & (data_2014['sales'] <= 1e7) & (data_2014['ind2'] == 26)]\n",
    "\n",
    "# Select only the relevant columns for modeling\n",
    "sme_features_2014 = sme_2014[['comp_id', 'current_ratio', 'net_profit_margin', 'debt_to_equity_ratio', 'firm_age']]\n",
    "\n",
    "# Display the first few rows of the calculated features\n",
    "print(sme_features_2014.head())\n"
   ]
  },
  {
   "cell_type": "code",
   "execution_count": null,
   "id": "7c5d5526",
   "metadata": {},
   "outputs": [],
   "source": [
    "# Get IDs of default companies\n",
    "defaulted_ids = all_defaulted_firms_ids\n",
    "\n",
    "# # Label the data: 1 if the company defaulted in 2015, 0 otherwise\n",
    "sme_features_2014['default'] = sme_features_2014['comp_id'].isin(defaulted_ids).astype(int)\n",
    "\n",
    "# Define the features (X) and the label (y)\n",
    "X = sme_features_2014.drop(['comp_id', 'default'], axis=1) \n",
    "y = sme_features_2014['default'] \n",
    "\n",
    "# Split the data into training and test sets\n",
    "X_train, X_test, y_train, y_test = train_test_split(X, y, test_size=0.3, random_state=42, stratify=y)\n",
    "\n",
    "# # Output the shapes of the resulting data splits to verify the sizes\n",
    "(X_train.shape, X_test.shape, y_train.shape, y_test.shape)"
   ]
  },
  {
   "cell_type": "markdown",
   "id": "7484cb63",
   "metadata": {},
   "source": [
    "# 2. Modeling"
   ]
  },
  {
   "cell_type": "markdown",
   "id": "51152174",
   "metadata": {},
   "source": [
    "### 2.1. Logistic regression"
   ]
  },
  {
   "cell_type": "code",
   "execution_count": null,
   "id": "7005de8d",
   "metadata": {},
   "outputs": [],
   "source": [
    "from sklearn.impute import SimpleImputer\n",
    "from sklearn.linear_model import LogisticRegression\n",
    "from sklearn.pipeline import Pipeline\n",
    "from sklearn.preprocessing import StandardScaler\n",
    "\n",
    "# Create an imputer object with a median filling strategy\n",
    "imputer = SimpleImputer(strategy='median')\n",
    "\n",
    "# Impute missing values in the training data\n",
    "X_train_imputed = imputer.fit_transform(X_train)\n",
    "X_test_imputed = imputer.transform(X_test)\n",
    "\n",
    "# Create a logistic regression model\n",
    "# StandardScaler is used to standardize the features by removing the mean and scaling to unit variance\n",
    "# Logistic Regression is chosen because it's a good baseline model for binary classification tasks\n",
    "logreg_pipeline = Pipeline(steps=[('scaler', StandardScaler()),\n",
    "                                  ('logistic_regression', LogisticRegression(random_state=42))])\n",
    "\n",
    "# Train the logistic regression model on the imputed and scaled training data\n",
    "logreg_pipeline.fit(X_train_imputed, y_train)\n",
    "\n",
    "# Now the logistic regression model is trained, we can use it to make predictions\n",
    "# However, we will evaluate the model's performance in the next steps using the test set\n",
    "\n",
    "# The comments are in English to explain each step of the process\n"
   ]
  },
  {
   "cell_type": "code",
   "execution_count": null,
   "id": "b417b64a",
   "metadata": {},
   "outputs": [],
   "source": []
  }
 ],
 "metadata": {
  "kernelspec": {
   "display_name": "Python 3 (ipykernel)",
   "language": "python",
   "name": "python3"
  },
  "language_info": {
   "codemirror_mode": {
    "name": "ipython",
    "version": 3
   },
   "file_extension": ".py",
   "mimetype": "text/x-python",
   "name": "python",
   "nbconvert_exporter": "python",
   "pygments_lexer": "ipython3",
   "version": "3.11.4"
  }
 },
 "nbformat": 4,
 "nbformat_minor": 5
}
