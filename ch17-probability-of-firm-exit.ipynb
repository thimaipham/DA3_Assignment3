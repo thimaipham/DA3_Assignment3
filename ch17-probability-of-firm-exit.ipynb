{
 "cells": [
  {
   "cell_type": "markdown",
   "metadata": {},
   "source": [
    "### Chapter 17\n",
    "\n",
    "**Ch17 Predicting probability of firm exit**\n",
    "\n",
    "using the bosnide dataset\n",
    "\n",
    "version 1.0 2024-01-15"
   ]
  },
  {
   "cell_type": "code",
   "execution_count": 1,
   "metadata": {},
   "outputs": [],
   "source": [
    "import os\n",
    "import pandas as pd\n",
    "import numpy as np\n",
    "import sys\n",
    "import patsy\n",
    "import statsmodels.api as sm\n",
    "from sklearn.linear_model import LinearRegression, LogisticRegression, LogisticRegressionCV\n",
    "from sklearn.model_selection import train_test_split, GridSearchCV, KFold\n",
    "import sklearn.metrics as metrics\n",
    "from sklearn.metrics import brier_score_loss, roc_curve, auc, confusion_matrix, roc_auc_score, mean_squared_error\n",
    "from sklearn.ensemble import RandomForestClassifier\n",
    "from plotnine import *\n",
    "import seaborn as sns\n",
    "import matplotlib.pyplot as plt\n",
    "from sklearn.model_selection import train_test_split\n",
    "from sklearn.preprocessing import StandardScaler\n",
    "\n",
    "import warnings\n",
    "warnings.filterwarnings('ignore')"
   ]
  },
  {
   "cell_type": "markdown",
   "metadata": {},
   "source": [
    "### Define helper functions"
   ]
  },
  {
   "cell_type": "code",
   "execution_count": 2,
   "metadata": {},
   "outputs": [],
   "source": [
    "def regression_results(y_true, y_pred):\n",
    "\n",
    "    # Regression metrics\n",
    "    explained_variance=metrics.explained_variance_score(y_true, y_pred)\n",
    "    mean_absolute_error=metrics.mean_absolute_error(y_true, y_pred) \n",
    "    mse=metrics.mean_squared_error(y_true, y_pred) \n",
    "    median_absolute_error=metrics.median_absolute_error(y_true, y_pred)\n",
    "    r2=metrics.r2_score(y_true, y_pred)\n",
    "\n",
    "    print('explained_variance: ', round(explained_variance,4))    \n",
    "    print('r2: ', round(r2,4))\n",
    "    print('MAE: ', round(mean_absolute_error,4))\n",
    "    print('MSE: ', round(mse,4))\n",
    "    print('RMSE: ', round(np.sqrt(mse),4))\n",
    "    \n",
    "def create_coef_matrix(X, model):\n",
    "    coef_matrix = pd.concat(\n",
    "        [pd.DataFrame(X.columns),pd.DataFrame(model.coef_.flatten())], axis = 1\n",
    "    )\n",
    "    coef_matrix.columns = ['variable', 'coefficient']\n",
    "    coef_matrix.iloc[-1] = ['Intercept', model.intercept_.flatten()[0]]\n",
    "    return coef_matrix\n",
    "\n",
    "def cv_summary(lambdas, C_values, model):\n",
    "    d = {'lambdas': lambdas, 'C_values': C_values, 'mean_cv_score': model.scores_[1].mean(axis = 0)}\n",
    "    return(pd.DataFrame(data=d))\n",
    "\n",
    "def create_roc_plot(y_true, y_pred):\n",
    "    fpr, tpr, thresholds = roc_curve(y_true, y_pred)\n",
    "    all_coords = pd.DataFrame({\n",
    "        'fpr': fpr,\n",
    "        'tpr': tpr,\n",
    "        'thresholds': thresholds\n",
    "    })\n",
    "    \n",
    "    plot = ggplot(all_coords, aes(x = 'fpr', y = 'tpr')) \\\n",
    "        + geom_line(color=color[0], size = 0.7) \\\n",
    "        + geom_area(position = 'identity', fill = 'mediumaquamarine', alpha = 0.3) \\\n",
    "        + xlab(\"False Positive Rate (1-Specifity)\") \\\n",
    "        + ylab(\"True Positive Rate (Sensitivity)\") \\\n",
    "        + geom_abline(intercept = 0, slope = 1,  linetype = \"dotted\", color = \"black\") \\\n",
    "        + scale_y_continuous(limits = (0, 1), breaks = seq(0, 1, .1), expand = (0, 0.01)) \\\n",
    "        + scale_x_continuous(limits = (0, 1), breaks = seq(0, 1, .1), expand = (0.01, 0)) \\\n",
    "        + theme_bw()\n",
    "    return(plot)\n",
    "\n",
    "def sigmoid_array(x):\n",
    "    return(1 / (1 + np.exp(-x)))\n",
    "\n",
    "def generate_fold_prediction(model, X, fold, param_index):\n",
    "    fold_coef = model.coefs_paths_[1][fold,param_index,:]\n",
    "    return(sigmoid_array(np.dot(X, np.transpose(fold_coef)[:-1]) +  np.transpose(fold_coef)[-1]))\n",
    "\n",
    "def create_loss_plot(all_coords, optimal_threshold, curr_exp_loss):\n",
    "    all_coords_copy = all_coords.copy()\n",
    "    all_coords_copy['loss'] = (all_coords_copy.false_pos*FP + all_coords_copy.false_neg*FN)/all_coords_copy.n\n",
    "    \n",
    "    t = optimal_threshold\n",
    "    l = curr_exp_loss\n",
    "    \n",
    "    plot = ggplot(all_coords_copy, aes(x = 'thresholds', y = 'loss')) + \\\n",
    "        geom_line(color=color[0], size=0.7) + \\\n",
    "        scale_x_continuous(breaks = seq(0, 1.1, by = 0.1)) + \\\n",
    "        coord_cartesian(xlim=(0,1))+ \\\n",
    "        geom_vline(xintercept = t , color = color[0] ) + \\\n",
    "        annotate(geom = \"text\", x = t - 0.01, y= max(all_coords_copy.loss) - 0.4,\n",
    "                 label=\"best threshold: \" + str(round(t,2)),\n",
    "                 colour=color[1], angle=90, size = 7) +\\\n",
    "        annotate(geom = \"text\", x = t + 0.06, y= l,\\\n",
    "                 label= str(round(l, 2)), size = 7) +\\\n",
    "        theme_bw()\n",
    "    return(plot)\n",
    "\n",
    "\n",
    "def create_roc_plot_with_optimal(all_coords, optimal_threshold):\n",
    "    all_coords_copy = all_coords.copy()\n",
    "    all_coords_copy['sp'] = all_coords_copy.true_neg/all_coords_copy.neg\n",
    "    all_coords_copy['se'] = all_coords_copy.true_pos/all_coords_copy.pos\n",
    "    \n",
    "    best_coords = all_coords_copy[all_coords_copy.thresholds == optimal_threshold]\n",
    "    sp = best_coords.sp.values[0]\n",
    "    se = best_coords.se.values[0]\n",
    "\n",
    "    plot = ggplot(all_coords_copy, aes(x = 'sp', y = 'se')) +\\\n",
    "        geom_line(color=color[0], size=0.7) +\\\n",
    "        scale_y_continuous(breaks = seq(0, 1.1, by = 0.1)) +\\\n",
    "        scale_x_reverse(breaks = seq(0, 1.1, by = 0.1)) +\\\n",
    "        geom_point(data = pd.DataFrame({'sp': [sp], 'se': [se]})) +\\\n",
    "        annotate(geom = \"text\", x = sp, y = se + 0.03,\n",
    "                 label = str(round(sp, 2)) + ', ' + str(round(se, 2)), size = 7) +\\\n",
    "        theme_bw()\n",
    "    return(plot)"
   ]
  },
  {
   "cell_type": "markdown",
   "metadata": {},
   "source": [
    "### Get Data"
   ]
  },
  {
   "cell_type": "code",
   "execution_count": 3,
   "metadata": {},
   "outputs": [],
   "source": [
    "# Current script and repository folder\n",
    "current_path = os.getcwd()\n",
    "repository_path = current_path.split('Ch17')[0]"
   ]
  },
  {
   "cell_type": "code",
   "execution_count": 4,
   "metadata": {},
   "outputs": [],
   "source": [
    "# Add utils folder to sys path \n",
    "# Note: os.path.join() creates a string with the right syntax for defining a path for your operating sytem.\n",
    "sys.path.append(os.path.join(repository_path, 'utils'))"
   ]
  },
  {
   "cell_type": "code",
   "execution_count": 5,
   "metadata": {},
   "outputs": [],
   "source": [
    "# Define data folder\n",
    "data_path = os.path.join(repository_path, 'data')"
   ]
  },
  {
   "cell_type": "code",
   "execution_count": 6,
   "metadata": {},
   "outputs": [],
   "source": [
    "# Import the prewritten helper functions\n",
    "from py_helper_functions import *"
   ]
  },
  {
   "cell_type": "raw",
   "metadata": {},
   "source": [
    "# DATA IMPORT - FROM FILE\n",
    "data = pd.read_csv(os.path.join(data_path, 'bisnode_firms_clean.csv'))"
   ]
  },
  {
   "cell_type": "code",
   "execution_count": 7,
   "metadata": {},
   "outputs": [],
   "source": [
    "# DATA IMPORT - FROM GITHUB\n",
    "data = pd.read_csv('https://raw.githubusercontent.com/peterduronelly/DA3-Python-Codes/main/data/bisnode_firms_clean.csv')"
   ]
  },
  {
   "cell_type": "code",
   "execution_count": 8,
   "metadata": {},
   "outputs": [
    {
     "data": {
      "text/html": [
       "<div>\n",
       "<style scoped>\n",
       "    .dataframe tbody tr th:only-of-type {\n",
       "        vertical-align: middle;\n",
       "    }\n",
       "\n",
       "    .dataframe tbody tr th {\n",
       "        vertical-align: top;\n",
       "    }\n",
       "\n",
       "    .dataframe thead th {\n",
       "        text-align: right;\n",
       "    }\n",
       "</style>\n",
       "<table border=\"1\" class=\"dataframe\">\n",
       "  <thead>\n",
       "    <tr style=\"text-align: right;\">\n",
       "      <th></th>\n",
       "      <th>year</th>\n",
       "      <th>comp_id</th>\n",
       "      <th>begin</th>\n",
       "      <th>end</th>\n",
       "      <th>amort</th>\n",
       "      <th>curr_assets</th>\n",
       "      <th>curr_liab</th>\n",
       "      <th>extra_exp</th>\n",
       "      <th>extra_inc</th>\n",
       "      <th>extra_profit_loss</th>\n",
       "      <th>...</th>\n",
       "      <th>flag_miss_ceo_age</th>\n",
       "      <th>ceo_young</th>\n",
       "      <th>labor_avg_mod</th>\n",
       "      <th>flag_miss_labor_avg</th>\n",
       "      <th>default_f</th>\n",
       "      <th>sales_mil_log_sq</th>\n",
       "      <th>flag_low_d1_sales_mil_log</th>\n",
       "      <th>flag_high_d1_sales_mil_log</th>\n",
       "      <th>d1_sales_mil_log_mod</th>\n",
       "      <th>d1_sales_mil_log_mod_sq</th>\n",
       "    </tr>\n",
       "  </thead>\n",
       "  <tbody>\n",
       "    <tr>\n",
       "      <th>0</th>\n",
       "      <td>2012</td>\n",
       "      <td>1001541</td>\n",
       "      <td>2012-01-01</td>\n",
       "      <td>2012-12-31</td>\n",
       "      <td>481.481476</td>\n",
       "      <td>9629.629883</td>\n",
       "      <td>1303.703735</td>\n",
       "      <td>0.0</td>\n",
       "      <td>0.000000</td>\n",
       "      <td>0.000000</td>\n",
       "      <td>...</td>\n",
       "      <td>0</td>\n",
       "      <td>1</td>\n",
       "      <td>0.621691</td>\n",
       "      <td>1</td>\n",
       "      <td>no_default</td>\n",
       "      <td>45.190017</td>\n",
       "      <td>1</td>\n",
       "      <td>0</td>\n",
       "      <td>-1.500000</td>\n",
       "      <td>2.250000</td>\n",
       "    </tr>\n",
       "    <tr>\n",
       "      <th>1</th>\n",
       "      <td>2012</td>\n",
       "      <td>1002029</td>\n",
       "      <td>2012-01-01</td>\n",
       "      <td>2012-12-31</td>\n",
       "      <td>14929.629883</td>\n",
       "      <td>203885.187500</td>\n",
       "      <td>120444.453125</td>\n",
       "      <td>0.0</td>\n",
       "      <td>0.000000</td>\n",
       "      <td>0.000000</td>\n",
       "      <td>...</td>\n",
       "      <td>0</td>\n",
       "      <td>1</td>\n",
       "      <td>0.458333</td>\n",
       "      <td>0</td>\n",
       "      <td>no_default</td>\n",
       "      <td>0.016375</td>\n",
       "      <td>0</td>\n",
       "      <td>0</td>\n",
       "      <td>0.684448</td>\n",
       "      <td>0.468469</td>\n",
       "    </tr>\n",
       "    <tr>\n",
       "      <th>2</th>\n",
       "      <td>2012</td>\n",
       "      <td>1003200</td>\n",
       "      <td>2012-01-01</td>\n",
       "      <td>2012-12-31</td>\n",
       "      <td>25.925926</td>\n",
       "      <td>22.222221</td>\n",
       "      <td>10996.295898</td>\n",
       "      <td>0.0</td>\n",
       "      <td>0.000000</td>\n",
       "      <td>0.000000</td>\n",
       "      <td>...</td>\n",
       "      <td>1</td>\n",
       "      <td>0</td>\n",
       "      <td>0.621691</td>\n",
       "      <td>1</td>\n",
       "      <td>default</td>\n",
       "      <td>34.614876</td>\n",
       "      <td>0</td>\n",
       "      <td>0</td>\n",
       "      <td>-1.424773</td>\n",
       "      <td>2.029978</td>\n",
       "    </tr>\n",
       "    <tr>\n",
       "      <th>3</th>\n",
       "      <td>2012</td>\n",
       "      <td>1011889</td>\n",
       "      <td>2012-01-01</td>\n",
       "      <td>2012-12-31</td>\n",
       "      <td>36625.925781</td>\n",
       "      <td>160166.671875</td>\n",
       "      <td>18911.111328</td>\n",
       "      <td>0.0</td>\n",
       "      <td>0.000000</td>\n",
       "      <td>0.000000</td>\n",
       "      <td>...</td>\n",
       "      <td>0</td>\n",
       "      <td>0</td>\n",
       "      <td>1.621212</td>\n",
       "      <td>0</td>\n",
       "      <td>no_default</td>\n",
       "      <td>0.698025</td>\n",
       "      <td>0</td>\n",
       "      <td>0</td>\n",
       "      <td>0.097722</td>\n",
       "      <td>0.009550</td>\n",
       "    </tr>\n",
       "    <tr>\n",
       "      <th>4</th>\n",
       "      <td>2012</td>\n",
       "      <td>1014183</td>\n",
       "      <td>2012-01-01</td>\n",
       "      <td>2012-12-31</td>\n",
       "      <td>12551.851562</td>\n",
       "      <td>199903.703125</td>\n",
       "      <td>8274.074219</td>\n",
       "      <td>0.0</td>\n",
       "      <td>7.407407</td>\n",
       "      <td>7.407407</td>\n",
       "      <td>...</td>\n",
       "      <td>0</td>\n",
       "      <td>0</td>\n",
       "      <td>0.715278</td>\n",
       "      <td>0</td>\n",
       "      <td>no_default</td>\n",
       "      <td>4.171000</td>\n",
       "      <td>0</td>\n",
       "      <td>0</td>\n",
       "      <td>-0.273087</td>\n",
       "      <td>0.074577</td>\n",
       "    </tr>\n",
       "  </tbody>\n",
       "</table>\n",
       "<p>5 rows × 118 columns</p>\n",
       "</div>"
      ],
      "text/plain": [
       "   year  comp_id       begin         end         amort    curr_assets  \\\n",
       "0  2012  1001541  2012-01-01  2012-12-31    481.481476    9629.629883   \n",
       "1  2012  1002029  2012-01-01  2012-12-31  14929.629883  203885.187500   \n",
       "2  2012  1003200  2012-01-01  2012-12-31     25.925926      22.222221   \n",
       "3  2012  1011889  2012-01-01  2012-12-31  36625.925781  160166.671875   \n",
       "4  2012  1014183  2012-01-01  2012-12-31  12551.851562  199903.703125   \n",
       "\n",
       "       curr_liab  extra_exp  extra_inc  extra_profit_loss  ...  \\\n",
       "0    1303.703735        0.0   0.000000           0.000000  ...   \n",
       "1  120444.453125        0.0   0.000000           0.000000  ...   \n",
       "2   10996.295898        0.0   0.000000           0.000000  ...   \n",
       "3   18911.111328        0.0   0.000000           0.000000  ...   \n",
       "4    8274.074219        0.0   7.407407           7.407407  ...   \n",
       "\n",
       "   flag_miss_ceo_age  ceo_young  labor_avg_mod  flag_miss_labor_avg  \\\n",
       "0                  0          1       0.621691                    1   \n",
       "1                  0          1       0.458333                    0   \n",
       "2                  1          0       0.621691                    1   \n",
       "3                  0          0       1.621212                    0   \n",
       "4                  0          0       0.715278                    0   \n",
       "\n",
       "    default_f  sales_mil_log_sq  flag_low_d1_sales_mil_log  \\\n",
       "0  no_default         45.190017                          1   \n",
       "1  no_default          0.016375                          0   \n",
       "2     default         34.614876                          0   \n",
       "3  no_default          0.698025                          0   \n",
       "4  no_default          4.171000                          0   \n",
       "\n",
       "   flag_high_d1_sales_mil_log  d1_sales_mil_log_mod  d1_sales_mil_log_mod_sq  \n",
       "0                           0             -1.500000                 2.250000  \n",
       "1                           0              0.684448                 0.468469  \n",
       "2                           0             -1.424773                 2.029978  \n",
       "3                           0              0.097722                 0.009550  \n",
       "4                           0             -0.273087                 0.074577  \n",
       "\n",
       "[5 rows x 118 columns]"
      ]
     },
     "execution_count": 8,
     "metadata": {},
     "output_type": "execute_result"
    }
   ],
   "source": [
    "data.head()"
   ]
  },
  {
   "cell_type": "code",
   "execution_count": 9,
   "metadata": {},
   "outputs": [
    {
     "data": {
      "text/plain": [
       "['year',\n",
       " 'comp_id',\n",
       " 'begin',\n",
       " 'end',\n",
       " 'amort',\n",
       " 'curr_assets',\n",
       " 'curr_liab',\n",
       " 'extra_exp',\n",
       " 'extra_inc',\n",
       " 'extra_profit_loss',\n",
       " 'fixed_assets',\n",
       " 'inc_bef_tax',\n",
       " 'intang_assets',\n",
       " 'inventories',\n",
       " 'liq_assets',\n",
       " 'material_exp',\n",
       " 'personnel_exp',\n",
       " 'profit_loss_year',\n",
       " 'sales',\n",
       " 'share_eq',\n",
       " 'subscribed_cap',\n",
       " 'tang_assets',\n",
       " 'D',\n",
       " 'balsheet_flag',\n",
       " 'balsheet_length',\n",
       " 'balsheet_notfullyear',\n",
       " 'founded_year',\n",
       " 'exit_year',\n",
       " 'ceo_count',\n",
       " 'foreign',\n",
       " 'female',\n",
       " 'birth_year',\n",
       " 'inoffice_days',\n",
       " 'gender',\n",
       " 'origin',\n",
       " 'nace_main',\n",
       " 'ind2',\n",
       " 'ind',\n",
       " 'urban_m',\n",
       " 'region_m',\n",
       " 'founded_date',\n",
       " 'exit_date',\n",
       " 'status_alive',\n",
       " 'default',\n",
       " 'ln_sales',\n",
       " 'sales_mil',\n",
       " 'sales_mil_log',\n",
       " 'd1_sales_mil_log',\n",
       " 'age',\n",
       " 'new',\n",
       " 'ind2_cat',\n",
       " 'age2',\n",
       " 'foreign_management',\n",
       " 'gender_m',\n",
       " 'm_region_loc',\n",
       " 'flag_asset_problem',\n",
       " 'total_assets_bs',\n",
       " 'extra_exp_pl',\n",
       " 'extra_inc_pl',\n",
       " 'extra_profit_loss_pl',\n",
       " 'inc_bef_tax_pl',\n",
       " 'inventories_pl',\n",
       " 'material_exp_pl',\n",
       " 'profit_loss_year_pl',\n",
       " 'personnel_exp_pl',\n",
       " 'intang_assets_bs',\n",
       " 'curr_liab_bs',\n",
       " 'fixed_assets_bs',\n",
       " 'liq_assets_bs',\n",
       " 'curr_assets_bs',\n",
       " 'share_eq_bs',\n",
       " 'subscribed_cap_bs',\n",
       " 'tang_assets_bs',\n",
       " 'extra_exp_pl_flag_high',\n",
       " 'extra_inc_pl_flag_high',\n",
       " 'inventories_pl_flag_high',\n",
       " 'material_exp_pl_flag_high',\n",
       " 'personnel_exp_pl_flag_high',\n",
       " 'curr_liab_bs_flag_high',\n",
       " 'liq_assets_bs_flag_high',\n",
       " 'subscribed_cap_bs_flag_high',\n",
       " 'extra_exp_pl_flag_error',\n",
       " 'extra_inc_pl_flag_error',\n",
       " 'inventories_pl_flag_error',\n",
       " 'material_exp_pl_flag_error',\n",
       " 'personnel_exp_pl_flag_error',\n",
       " 'curr_liab_bs_flag_error',\n",
       " 'liq_assets_bs_flag_error',\n",
       " 'subscribed_cap_bs_flag_error',\n",
       " 'extra_profit_loss_pl_flag_low',\n",
       " 'inc_bef_tax_pl_flag_low',\n",
       " 'profit_loss_year_pl_flag_low',\n",
       " 'share_eq_bs_flag_low',\n",
       " 'extra_profit_loss_pl_flag_high',\n",
       " 'inc_bef_tax_pl_flag_high',\n",
       " 'profit_loss_year_pl_flag_high',\n",
       " 'share_eq_bs_flag_high',\n",
       " 'extra_profit_loss_pl_flag_zero',\n",
       " 'inc_bef_tax_pl_flag_zero',\n",
       " 'profit_loss_year_pl_flag_zero',\n",
       " 'share_eq_bs_flag_zero',\n",
       " 'extra_profit_loss_pl_quad',\n",
       " 'inc_bef_tax_pl_quad',\n",
       " 'profit_loss_year_pl_quad',\n",
       " 'share_eq_bs_quad',\n",
       " 'ceo_age',\n",
       " 'flag_low_ceo_age',\n",
       " 'flag_high_ceo_age',\n",
       " 'flag_miss_ceo_age',\n",
       " 'ceo_young',\n",
       " 'labor_avg_mod',\n",
       " 'flag_miss_labor_avg',\n",
       " 'default_f',\n",
       " 'sales_mil_log_sq',\n",
       " 'flag_low_d1_sales_mil_log',\n",
       " 'flag_high_d1_sales_mil_log',\n",
       " 'd1_sales_mil_log_mod',\n",
       " 'd1_sales_mil_log_mod_sq']"
      ]
     },
     "execution_count": 9,
     "metadata": {},
     "output_type": "execute_result"
    }
   ],
   "source": [
    "data.columns.tolist()"
   ]
  },
  {
   "cell_type": "raw",
   "metadata": {},
   "source": [
    "# Current script folder\n",
    "path = os.getcwd()\n",
    "base_dir = path.split(\"da_case_studies\")[0]\n",
    "\n",
    "#Set the location of your data directory\n",
    "data_dir = base_dir + 'da_data_repo'"
   ]
  },
  {
   "cell_type": "raw",
   "metadata": {},
   "source": [
    "# location folders\n",
    "data_in = os.path.join(data_dir, 'bisnode-firms/clean/')\n",
    "data_out = os.path.join(data_dir, 'bisnode-firms/')\n",
    "output = os.path.join(data_out, 'output/')\n",
    "func = os.path.join(base_dir, 'da_case_studies/ch00-tech-prep/')\n",
    "sys.path.append(func)"
   ]
  },
  {
   "cell_type": "markdown",
   "metadata": {},
   "source": [
    "### Define variable sets "
   ]
  },
  {
   "cell_type": "code",
   "execution_count": 10,
   "metadata": {},
   "outputs": [],
   "source": [
    "rawvars = [\"curr_assets\", \"curr_liab\", \"extra_exp\", \"extra_inc\", \"extra_profit_loss\", \"fixed_assets\",\n",
    "              \"inc_bef_tax\", \"intang_assets\", \"inventories\", \"liq_assets\", \"material_exp\", \"personnel_exp\",\n",
    "              \"profit_loss_year\", \"sales\", \"share_eq\", \"subscribed_cap\"]\n",
    "qualityvars = [\"balsheet_flag\", \"balsheet_length\", \"balsheet_notfullyear\"]\n",
    "engvar = [\"total_assets_bs\", \"fixed_assets_bs\", \"liq_assets_bs\", \"curr_assets_bs\",\n",
    "            \"share_eq_bs\", \"subscribed_cap_bs\", \"intang_assets_bs\", \"extra_exp_pl\",\n",
    "            \"extra_inc_pl\", \"extra_profit_loss_pl\", \"inc_bef_tax_pl\", \"inventories_pl\",\n",
    "            \"material_exp_pl\", \"profit_loss_year_pl\", \"personnel_exp_pl\"]\n",
    "engvar2 = [\"extra_profit_loss_pl_quad\", \"inc_bef_tax_pl_quad\",\n",
    "             \"profit_loss_year_pl_quad\", \"share_eq_bs_quad\"]\n",
    "engvar3 = []\n",
    "for col in data.columns:\n",
    "    if col.endswith('flag_low') or col.endswith('flag_high') or col.endswith('flag_error') or col.endswith('flag_zero'):\n",
    "        engvar3.append(col)\n",
    "\n",
    "\n",
    "d1 =  [\"d1_sales_mil_log_mod\", \"d1_sales_mil_log_mod_sq\",\n",
    "         \"flag_low_d1_sales_mil_log\", \"flag_high_d1_sales_mil_log\"]\n",
    "hr = [\"female\", \"ceo_age\", \"flag_high_ceo_age\", \"flag_low_ceo_age\",\n",
    "        \"flag_miss_ceo_age\", \"ceo_count\", \"labor_avg_mod\",\n",
    "        \"flag_miss_labor_avg\", \"foreign_management\"]"
   ]
  },
  {
   "cell_type": "code",
   "execution_count": 11,
   "metadata": {},
   "outputs": [
    {
     "data": {
      "text/plain": [
       "56    11413\n",
       "55     2061\n",
       "28     1790\n",
       "33     1772\n",
       "26      994\n",
       "27      599\n",
       "29      259\n",
       "30      148\n",
       "Name: ind2_cat, dtype: int64"
      ]
     },
     "execution_count": 11,
     "metadata": {},
     "output_type": "execute_result"
    }
   ],
   "source": [
    "data.ind2_cat.value_counts()"
   ]
  },
  {
   "cell_type": "markdown",
   "metadata": {},
   "source": [
    "See `patsy` formula language [here](https://patsy.readthedocs.io/en/latest/formulas.html), treatment of categorical variables [here](https://patsy.readthedocs.io/en/latest/categorical-coding.html). "
   ]
  },
  {
   "cell_type": "code",
   "execution_count": 12,
   "metadata": {},
   "outputs": [],
   "source": [
    "#Creat dummy columns from category variables and drop first level\n",
    "ind2_catmat = patsy.dmatrix(\"0 + C(ind2_cat)\",data, return_type=\"dataframe\")"
   ]
  },
  {
   "cell_type": "code",
   "execution_count": 13,
   "metadata": {},
   "outputs": [
    {
     "data": {
      "text/html": [
       "<div>\n",
       "<style scoped>\n",
       "    .dataframe tbody tr th:only-of-type {\n",
       "        vertical-align: middle;\n",
       "    }\n",
       "\n",
       "    .dataframe tbody tr th {\n",
       "        vertical-align: top;\n",
       "    }\n",
       "\n",
       "    .dataframe thead th {\n",
       "        text-align: right;\n",
       "    }\n",
       "</style>\n",
       "<table border=\"1\" class=\"dataframe\">\n",
       "  <thead>\n",
       "    <tr style=\"text-align: right;\">\n",
       "      <th></th>\n",
       "      <th>C(ind2_cat)[26]</th>\n",
       "      <th>C(ind2_cat)[27]</th>\n",
       "      <th>C(ind2_cat)[28]</th>\n",
       "      <th>C(ind2_cat)[29]</th>\n",
       "      <th>C(ind2_cat)[30]</th>\n",
       "      <th>C(ind2_cat)[33]</th>\n",
       "      <th>C(ind2_cat)[55]</th>\n",
       "      <th>C(ind2_cat)[56]</th>\n",
       "    </tr>\n",
       "  </thead>\n",
       "  <tbody>\n",
       "    <tr>\n",
       "      <th>0</th>\n",
       "      <td>0.0</td>\n",
       "      <td>0.0</td>\n",
       "      <td>0.0</td>\n",
       "      <td>0.0</td>\n",
       "      <td>0.0</td>\n",
       "      <td>0.0</td>\n",
       "      <td>0.0</td>\n",
       "      <td>1.0</td>\n",
       "    </tr>\n",
       "    <tr>\n",
       "      <th>1</th>\n",
       "      <td>0.0</td>\n",
       "      <td>1.0</td>\n",
       "      <td>0.0</td>\n",
       "      <td>0.0</td>\n",
       "      <td>0.0</td>\n",
       "      <td>0.0</td>\n",
       "      <td>0.0</td>\n",
       "      <td>0.0</td>\n",
       "    </tr>\n",
       "    <tr>\n",
       "      <th>2</th>\n",
       "      <td>0.0</td>\n",
       "      <td>0.0</td>\n",
       "      <td>0.0</td>\n",
       "      <td>0.0</td>\n",
       "      <td>0.0</td>\n",
       "      <td>0.0</td>\n",
       "      <td>0.0</td>\n",
       "      <td>1.0</td>\n",
       "    </tr>\n",
       "    <tr>\n",
       "      <th>3</th>\n",
       "      <td>0.0</td>\n",
       "      <td>0.0</td>\n",
       "      <td>0.0</td>\n",
       "      <td>0.0</td>\n",
       "      <td>0.0</td>\n",
       "      <td>0.0</td>\n",
       "      <td>1.0</td>\n",
       "      <td>0.0</td>\n",
       "    </tr>\n",
       "    <tr>\n",
       "      <th>4</th>\n",
       "      <td>0.0</td>\n",
       "      <td>0.0</td>\n",
       "      <td>0.0</td>\n",
       "      <td>0.0</td>\n",
       "      <td>0.0</td>\n",
       "      <td>0.0</td>\n",
       "      <td>1.0</td>\n",
       "      <td>0.0</td>\n",
       "    </tr>\n",
       "    <tr>\n",
       "      <th>...</th>\n",
       "      <td>...</td>\n",
       "      <td>...</td>\n",
       "      <td>...</td>\n",
       "      <td>...</td>\n",
       "      <td>...</td>\n",
       "      <td>...</td>\n",
       "      <td>...</td>\n",
       "      <td>...</td>\n",
       "    </tr>\n",
       "    <tr>\n",
       "      <th>19031</th>\n",
       "      <td>0.0</td>\n",
       "      <td>0.0</td>\n",
       "      <td>0.0</td>\n",
       "      <td>0.0</td>\n",
       "      <td>0.0</td>\n",
       "      <td>0.0</td>\n",
       "      <td>0.0</td>\n",
       "      <td>1.0</td>\n",
       "    </tr>\n",
       "    <tr>\n",
       "      <th>19032</th>\n",
       "      <td>0.0</td>\n",
       "      <td>0.0</td>\n",
       "      <td>1.0</td>\n",
       "      <td>0.0</td>\n",
       "      <td>0.0</td>\n",
       "      <td>0.0</td>\n",
       "      <td>0.0</td>\n",
       "      <td>0.0</td>\n",
       "    </tr>\n",
       "    <tr>\n",
       "      <th>19033</th>\n",
       "      <td>0.0</td>\n",
       "      <td>0.0</td>\n",
       "      <td>1.0</td>\n",
       "      <td>0.0</td>\n",
       "      <td>0.0</td>\n",
       "      <td>0.0</td>\n",
       "      <td>0.0</td>\n",
       "      <td>0.0</td>\n",
       "    </tr>\n",
       "    <tr>\n",
       "      <th>19034</th>\n",
       "      <td>0.0</td>\n",
       "      <td>0.0</td>\n",
       "      <td>0.0</td>\n",
       "      <td>0.0</td>\n",
       "      <td>0.0</td>\n",
       "      <td>1.0</td>\n",
       "      <td>0.0</td>\n",
       "      <td>0.0</td>\n",
       "    </tr>\n",
       "    <tr>\n",
       "      <th>19035</th>\n",
       "      <td>0.0</td>\n",
       "      <td>0.0</td>\n",
       "      <td>0.0</td>\n",
       "      <td>0.0</td>\n",
       "      <td>0.0</td>\n",
       "      <td>0.0</td>\n",
       "      <td>0.0</td>\n",
       "      <td>1.0</td>\n",
       "    </tr>\n",
       "  </tbody>\n",
       "</table>\n",
       "<p>19036 rows × 8 columns</p>\n",
       "</div>"
      ],
      "text/plain": [
       "       C(ind2_cat)[26]  C(ind2_cat)[27]  C(ind2_cat)[28]  C(ind2_cat)[29]  \\\n",
       "0                  0.0              0.0              0.0              0.0   \n",
       "1                  0.0              1.0              0.0              0.0   \n",
       "2                  0.0              0.0              0.0              0.0   \n",
       "3                  0.0              0.0              0.0              0.0   \n",
       "4                  0.0              0.0              0.0              0.0   \n",
       "...                ...              ...              ...              ...   \n",
       "19031              0.0              0.0              0.0              0.0   \n",
       "19032              0.0              0.0              1.0              0.0   \n",
       "19033              0.0              0.0              1.0              0.0   \n",
       "19034              0.0              0.0              0.0              0.0   \n",
       "19035              0.0              0.0              0.0              0.0   \n",
       "\n",
       "       C(ind2_cat)[30]  C(ind2_cat)[33]  C(ind2_cat)[55]  C(ind2_cat)[56]  \n",
       "0                  0.0              0.0              0.0              1.0  \n",
       "1                  0.0              0.0              0.0              0.0  \n",
       "2                  0.0              0.0              0.0              1.0  \n",
       "3                  0.0              0.0              1.0              0.0  \n",
       "4                  0.0              0.0              1.0              0.0  \n",
       "...                ...              ...              ...              ...  \n",
       "19031              0.0              0.0              0.0              1.0  \n",
       "19032              0.0              0.0              0.0              0.0  \n",
       "19033              0.0              0.0              0.0              0.0  \n",
       "19034              0.0              1.0              0.0              0.0  \n",
       "19035              0.0              0.0              0.0              1.0  \n",
       "\n",
       "[19036 rows x 8 columns]"
      ]
     },
     "execution_count": 13,
     "metadata": {},
     "output_type": "execute_result"
    }
   ],
   "source": [
    "ind2_catmat"
   ]
  },
  {
   "cell_type": "markdown",
   "metadata": {},
   "source": [
    "Question: why are we dropping the first level? "
   ]
  },
  {
   "cell_type": "code",
   "execution_count": 14,
   "metadata": {},
   "outputs": [],
   "source": [
    "ind2_catmat = ind2_catmat.drop(['C(ind2_cat)[26]'], axis=1)"
   ]
  },
  {
   "cell_type": "code",
   "execution_count": 15,
   "metadata": {},
   "outputs": [
    {
     "data": {
      "text/plain": [
       "Central    11290\n",
       "East        4838\n",
       "West        2908\n",
       "Name: m_region_loc, dtype: int64"
      ]
     },
     "execution_count": 15,
     "metadata": {},
     "output_type": "execute_result"
    }
   ],
   "source": [
    "data.m_region_loc.value_counts()"
   ]
  },
  {
   "cell_type": "code",
   "execution_count": 16,
   "metadata": {},
   "outputs": [],
   "source": [
    "m_region_locmat = patsy.dmatrix(\"0 + C(m_region_loc)\",data, return_type=\"dataframe\")\n",
    "m_region_locmat = m_region_locmat.drop(['C(m_region_loc)[Central]'], axis=1)"
   ]
  },
  {
   "cell_type": "code",
   "execution_count": 17,
   "metadata": {},
   "outputs": [
    {
     "data": {
      "text/plain": [
       "3    7691\n",
       "1    6038\n",
       "2    5307\n",
       "Name: urban_m, dtype: int64"
      ]
     },
     "execution_count": 17,
     "metadata": {},
     "output_type": "execute_result"
    }
   ],
   "source": [
    "data.urban_m.value_counts()"
   ]
  },
  {
   "cell_type": "code",
   "execution_count": 18,
   "metadata": {},
   "outputs": [],
   "source": [
    "urban_mmat = patsy.dmatrix(\"0 + C(urban_m)\",data, return_type=\"dataframe\")\n",
    "urban_mmat = urban_mmat.drop(['C(urban_m)[1]'], axis=1)"
   ]
  },
  {
   "cell_type": "code",
   "execution_count": 19,
   "metadata": {},
   "outputs": [],
   "source": [
    "# Define X1\n",
    "basevars = data[[\"sales_mil_log\", \"sales_mil_log_sq\", \"d1_sales_mil_log_mod\", \"profit_loss_year_pl\"]]\n",
    "X1 = pd.concat([basevars, ind2_catmat], axis=1)\n",
    "\n",
    "# Define X2\n",
    "X2additional_vars = data[[\"fixed_assets_bs\", \"share_eq_bs\",\"curr_liab_bs\", \"curr_liab_bs_flag_high\", \\\n",
    "                          \"curr_liab_bs_flag_error\",  \"age\", \"foreign_management\"]]\n",
    "X2 = pd.concat([X1, X2additional_vars], axis=1)\n",
    "\n",
    "# Define X3\n",
    "firm = pd.concat([data[[\"age\", \"age2\", \"new\"]], ind2_catmat, m_region_locmat, urban_mmat], axis=1)\n",
    "X3 = pd.concat([data[[\"sales_mil_log\", \"sales_mil_log_sq\"] + engvar + d1], firm], axis=1)\n",
    "\n",
    "# Define X4\n",
    "X4 = pd.concat([data[[\"sales_mil_log\", \"sales_mil_log_sq\"] + engvar + d1 \\\n",
    "                                 + engvar2 + engvar3 + hr + qualityvars], firm], axis=1)"
   ]
  },
  {
   "cell_type": "code",
   "execution_count": 20,
   "metadata": {
    "scrolled": true
   },
   "outputs": [],
   "source": [
    "# Define X5\n",
    "\n",
    "#Creat matrix for interactions1 variables\n",
    "int1mat = patsy.dmatrix(\"0 + C(ind2_cat):age + C(ind2_cat):age2 + C(ind2_cat):d1_sales_mil_log_mod \\\n",
    "                + C(ind2_cat):sales_mil_log + C(ind2_cat):ceo_age + C(ind2_cat):foreign_management \\\n",
    "                + C(ind2_cat):female + C(ind2_cat):C(urban_m) + C(ind2_cat):labor_avg_mod\", \n",
    "                        data, return_type=\"dataframe\")\n",
    "\n",
    "#Drop first level to get k-1 dummies out of k categorical levels \n",
    "for col in int1mat.columns:\n",
    "    if col.startswith('C(ind2_cat)[26]') or col.endswith('C(urban_m)[1]'):\n",
    "        int1mat = int1mat.drop([col], axis=1)\n",
    "        \n",
    "#Creat matrix for interactions2 variables        \n",
    "int2mat = patsy.dmatrix(\"0 + sales_mil_log:age + sales_mil_log:female + sales_mil_log:profit_loss_year_pl \\\n",
    "                + sales_mil_log:foreign_management\", \n",
    "                        data, return_type=\"dataframe\")\n",
    "\n",
    "X5 = pd.concat([X4, int1mat, int2mat], axis=1)"
   ]
  },
  {
   "cell_type": "code",
   "execution_count": 21,
   "metadata": {},
   "outputs": [],
   "source": [
    "# Define logitvars for LASSO\n",
    "logitvars = pd.concat([X4, int1mat, int2mat], axis=1)"
   ]
  },
  {
   "cell_type": "code",
   "execution_count": 22,
   "metadata": {},
   "outputs": [],
   "source": [
    "# Define rfvars for RF (no interactions, no modified features)\n",
    "rfvars  = pd.concat([data[[\"sales_mil\", \"d1_sales_mil_log\"] + rawvars + hr + qualityvars], firm], axis=1)"
   ]
  },
  {
   "cell_type": "code",
   "execution_count": 23,
   "metadata": {},
   "outputs": [],
   "source": [
    "y = data['default']"
   ]
  },
  {
   "cell_type": "markdown",
   "metadata": {},
   "source": [
    "### Simple linear and logistic models"
   ]
  },
  {
   "cell_type": "markdown",
   "metadata": {},
   "source": [
    "**Simplest model: X1**"
   ]
  },
  {
   "cell_type": "code",
   "execution_count": 24,
   "metadata": {},
   "outputs": [],
   "source": [
    "ols_modelx1 = LinearRegression().fit(X1, y)"
   ]
  },
  {
   "cell_type": "code",
   "execution_count": 25,
   "metadata": {},
   "outputs": [
    {
     "name": "stdout",
     "output_type": "stream",
     "text": [
      "explained_variance:  0.1204\n",
      "r2:  0.1204\n",
      "MAE:  0.2852\n",
      "MSE:  0.1419\n",
      "RMSE:  0.3766\n"
     ]
    }
   ],
   "source": [
    "regression_results(y, ols_modelx1.predict(X1))"
   ]
  },
  {
   "cell_type": "code",
   "execution_count": 26,
   "metadata": {},
   "outputs": [
    {
     "data": {
      "text/html": [
       "<div>\n",
       "<style scoped>\n",
       "    .dataframe tbody tr th:only-of-type {\n",
       "        vertical-align: middle;\n",
       "    }\n",
       "\n",
       "    .dataframe tbody tr th {\n",
       "        vertical-align: top;\n",
       "    }\n",
       "\n",
       "    .dataframe thead th {\n",
       "        text-align: right;\n",
       "    }\n",
       "</style>\n",
       "<table border=\"1\" class=\"dataframe\">\n",
       "  <thead>\n",
       "    <tr style=\"text-align: right;\">\n",
       "      <th></th>\n",
       "      <th>variable</th>\n",
       "      <th>coefficient</th>\n",
       "    </tr>\n",
       "  </thead>\n",
       "  <tbody>\n",
       "    <tr>\n",
       "      <th>0</th>\n",
       "      <td>sales_mil_log</td>\n",
       "      <td>-0.007481</td>\n",
       "    </tr>\n",
       "    <tr>\n",
       "      <th>1</th>\n",
       "      <td>sales_mil_log_sq</td>\n",
       "      <td>0.005824</td>\n",
       "    </tr>\n",
       "    <tr>\n",
       "      <th>2</th>\n",
       "      <td>d1_sales_mil_log_mod</td>\n",
       "      <td>-0.056779</td>\n",
       "    </tr>\n",
       "    <tr>\n",
       "      <th>3</th>\n",
       "      <td>profit_loss_year_pl</td>\n",
       "      <td>-0.169230</td>\n",
       "    </tr>\n",
       "    <tr>\n",
       "      <th>4</th>\n",
       "      <td>C(ind2_cat)[27]</td>\n",
       "      <td>0.019950</td>\n",
       "    </tr>\n",
       "    <tr>\n",
       "      <th>5</th>\n",
       "      <td>C(ind2_cat)[28]</td>\n",
       "      <td>0.012457</td>\n",
       "    </tr>\n",
       "    <tr>\n",
       "      <th>6</th>\n",
       "      <td>C(ind2_cat)[29]</td>\n",
       "      <td>0.049450</td>\n",
       "    </tr>\n",
       "    <tr>\n",
       "      <th>7</th>\n",
       "      <td>C(ind2_cat)[30]</td>\n",
       "      <td>0.001055</td>\n",
       "    </tr>\n",
       "    <tr>\n",
       "      <th>8</th>\n",
       "      <td>C(ind2_cat)[33]</td>\n",
       "      <td>0.001636</td>\n",
       "    </tr>\n",
       "    <tr>\n",
       "      <th>9</th>\n",
       "      <td>C(ind2_cat)[55]</td>\n",
       "      <td>-0.004769</td>\n",
       "    </tr>\n",
       "    <tr>\n",
       "      <th>10</th>\n",
       "      <td>Intercept</td>\n",
       "      <td>0.018155</td>\n",
       "    </tr>\n",
       "  </tbody>\n",
       "</table>\n",
       "</div>"
      ],
      "text/plain": [
       "                variable  coefficient\n",
       "0          sales_mil_log    -0.007481\n",
       "1       sales_mil_log_sq     0.005824\n",
       "2   d1_sales_mil_log_mod    -0.056779\n",
       "3    profit_loss_year_pl    -0.169230\n",
       "4        C(ind2_cat)[27]     0.019950\n",
       "5        C(ind2_cat)[28]     0.012457\n",
       "6        C(ind2_cat)[29]     0.049450\n",
       "7        C(ind2_cat)[30]     0.001055\n",
       "8        C(ind2_cat)[33]     0.001636\n",
       "9        C(ind2_cat)[55]    -0.004769\n",
       "10             Intercept     0.018155"
      ]
     },
     "execution_count": 26,
     "metadata": {},
     "output_type": "execute_result"
    }
   ],
   "source": [
    "create_coef_matrix(X1, ols_modelx1)"
   ]
  },
  {
   "cell_type": "code",
   "execution_count": 27,
   "metadata": {},
   "outputs": [
    {
     "name": "stdout",
     "output_type": "stream",
     "text": [
      "explained_variance:  -0.0601\n",
      "r2:  -0.1993\n",
      "MAE:  0.1934\n",
      "MSE:  0.1934\n",
      "RMSE:  0.4398\n"
     ]
    }
   ],
   "source": [
    "glm_modelx1 = LogisticRegression(\n",
    "    solver=\"newton-cg\",max_iter=1000, penalty=\"none\", random_state = 20240205).fit(X1, y)\n",
    "regression_results(y, glm_modelx1.predict(X1))"
   ]
  },
  {
   "cell_type": "markdown",
   "metadata": {},
   "source": [
    "On the negative variance: see Wikipedia on [$R^2$](https://en.wikipedia.org/wiki/Coefficient_of_determination)."
   ]
  },
  {
   "cell_type": "code",
   "execution_count": 28,
   "metadata": {},
   "outputs": [
    {
     "data": {
      "text/html": [
       "<div>\n",
       "<style scoped>\n",
       "    .dataframe tbody tr th:only-of-type {\n",
       "        vertical-align: middle;\n",
       "    }\n",
       "\n",
       "    .dataframe tbody tr th {\n",
       "        vertical-align: top;\n",
       "    }\n",
       "\n",
       "    .dataframe thead th {\n",
       "        text-align: right;\n",
       "    }\n",
       "</style>\n",
       "<table border=\"1\" class=\"dataframe\">\n",
       "  <thead>\n",
       "    <tr style=\"text-align: right;\">\n",
       "      <th></th>\n",
       "      <th>variable</th>\n",
       "      <th>coefficient</th>\n",
       "    </tr>\n",
       "  </thead>\n",
       "  <tbody>\n",
       "    <tr>\n",
       "      <th>0</th>\n",
       "      <td>sales_mil_log</td>\n",
       "      <td>-0.323186</td>\n",
       "    </tr>\n",
       "    <tr>\n",
       "      <th>1</th>\n",
       "      <td>sales_mil_log_sq</td>\n",
       "      <td>-0.001676</td>\n",
       "    </tr>\n",
       "    <tr>\n",
       "      <th>2</th>\n",
       "      <td>d1_sales_mil_log_mod</td>\n",
       "      <td>-0.366168</td>\n",
       "    </tr>\n",
       "    <tr>\n",
       "      <th>3</th>\n",
       "      <td>profit_loss_year_pl</td>\n",
       "      <td>-0.858115</td>\n",
       "    </tr>\n",
       "    <tr>\n",
       "      <th>4</th>\n",
       "      <td>C(ind2_cat)[27]</td>\n",
       "      <td>0.168237</td>\n",
       "    </tr>\n",
       "    <tr>\n",
       "      <th>5</th>\n",
       "      <td>C(ind2_cat)[28]</td>\n",
       "      <td>0.066164</td>\n",
       "    </tr>\n",
       "    <tr>\n",
       "      <th>6</th>\n",
       "      <td>C(ind2_cat)[29]</td>\n",
       "      <td>0.515958</td>\n",
       "    </tr>\n",
       "    <tr>\n",
       "      <th>7</th>\n",
       "      <td>C(ind2_cat)[30]</td>\n",
       "      <td>0.017364</td>\n",
       "    </tr>\n",
       "    <tr>\n",
       "      <th>8</th>\n",
       "      <td>C(ind2_cat)[33]</td>\n",
       "      <td>-0.002647</td>\n",
       "    </tr>\n",
       "    <tr>\n",
       "      <th>9</th>\n",
       "      <td>C(ind2_cat)[55]</td>\n",
       "      <td>0.039306</td>\n",
       "    </tr>\n",
       "    <tr>\n",
       "      <th>10</th>\n",
       "      <td>Intercept</td>\n",
       "      <td>-3.230273</td>\n",
       "    </tr>\n",
       "  </tbody>\n",
       "</table>\n",
       "</div>"
      ],
      "text/plain": [
       "                variable  coefficient\n",
       "0          sales_mil_log    -0.323186\n",
       "1       sales_mil_log_sq    -0.001676\n",
       "2   d1_sales_mil_log_mod    -0.366168\n",
       "3    profit_loss_year_pl    -0.858115\n",
       "4        C(ind2_cat)[27]     0.168237\n",
       "5        C(ind2_cat)[28]     0.066164\n",
       "6        C(ind2_cat)[29]     0.515958\n",
       "7        C(ind2_cat)[30]     0.017364\n",
       "8        C(ind2_cat)[33]    -0.002647\n",
       "9        C(ind2_cat)[55]     0.039306\n",
       "10             Intercept    -3.230273"
      ]
     },
     "execution_count": 28,
     "metadata": {},
     "output_type": "execute_result"
    }
   ],
   "source": [
    "create_coef_matrix(X1, glm_modelx1)"
   ]
  },
  {
   "cell_type": "markdown",
   "metadata": {},
   "source": [
    "**Model X2**"
   ]
  },
  {
   "cell_type": "code",
   "execution_count": 29,
   "metadata": {},
   "outputs": [
    {
     "name": "stdout",
     "output_type": "stream",
     "text": [
      "explained_variance:  -0.0527\n",
      "r2:  -0.1592\n",
      "MAE:  0.187\n",
      "MSE:  0.187\n",
      "RMSE:  0.4324\n"
     ]
    }
   ],
   "source": [
    "glm_modelx2 = LogisticRegression(solver=\"newton-cg\", max_iter=1000, penalty=\"none\").fit(X2, y)\n",
    "regression_results(y, glm_modelx2.predict(X2))"
   ]
  },
  {
   "cell_type": "code",
   "execution_count": 30,
   "metadata": {},
   "outputs": [
    {
     "data": {
      "text/html": [
       "<div>\n",
       "<style scoped>\n",
       "    .dataframe tbody tr th:only-of-type {\n",
       "        vertical-align: middle;\n",
       "    }\n",
       "\n",
       "    .dataframe tbody tr th {\n",
       "        vertical-align: top;\n",
       "    }\n",
       "\n",
       "    .dataframe thead th {\n",
       "        text-align: right;\n",
       "    }\n",
       "</style>\n",
       "<table border=\"1\" class=\"dataframe\">\n",
       "  <thead>\n",
       "    <tr style=\"text-align: right;\">\n",
       "      <th></th>\n",
       "      <th>variable</th>\n",
       "      <th>coefficient</th>\n",
       "    </tr>\n",
       "  </thead>\n",
       "  <tbody>\n",
       "    <tr>\n",
       "      <th>0</th>\n",
       "      <td>sales_mil_log</td>\n",
       "      <td>-0.180310</td>\n",
       "    </tr>\n",
       "    <tr>\n",
       "      <th>1</th>\n",
       "      <td>sales_mil_log_sq</td>\n",
       "      <td>0.015300</td>\n",
       "    </tr>\n",
       "    <tr>\n",
       "      <th>2</th>\n",
       "      <td>d1_sales_mil_log_mod</td>\n",
       "      <td>-0.482108</td>\n",
       "    </tr>\n",
       "    <tr>\n",
       "      <th>3</th>\n",
       "      <td>profit_loss_year_pl</td>\n",
       "      <td>-0.450082</td>\n",
       "    </tr>\n",
       "    <tr>\n",
       "      <th>4</th>\n",
       "      <td>C(ind2_cat)[27]</td>\n",
       "      <td>0.145493</td>\n",
       "    </tr>\n",
       "    <tr>\n",
       "      <th>5</th>\n",
       "      <td>C(ind2_cat)[28]</td>\n",
       "      <td>0.032691</td>\n",
       "    </tr>\n",
       "    <tr>\n",
       "      <th>6</th>\n",
       "      <td>C(ind2_cat)[29]</td>\n",
       "      <td>0.406298</td>\n",
       "    </tr>\n",
       "    <tr>\n",
       "      <th>7</th>\n",
       "      <td>C(ind2_cat)[30]</td>\n",
       "      <td>-0.033016</td>\n",
       "    </tr>\n",
       "    <tr>\n",
       "      <th>8</th>\n",
       "      <td>C(ind2_cat)[33]</td>\n",
       "      <td>-0.157819</td>\n",
       "    </tr>\n",
       "    <tr>\n",
       "      <th>9</th>\n",
       "      <td>C(ind2_cat)[55]</td>\n",
       "      <td>0.128748</td>\n",
       "    </tr>\n",
       "    <tr>\n",
       "      <th>10</th>\n",
       "      <td>C(ind2_cat)[56]</td>\n",
       "      <td>0.463619</td>\n",
       "    </tr>\n",
       "    <tr>\n",
       "      <th>11</th>\n",
       "      <td>fixed_assets_bs</td>\n",
       "      <td>-0.811012</td>\n",
       "    </tr>\n",
       "    <tr>\n",
       "      <th>12</th>\n",
       "      <td>share_eq_bs</td>\n",
       "      <td>-0.388092</td>\n",
       "    </tr>\n",
       "    <tr>\n",
       "      <th>13</th>\n",
       "      <td>curr_liab_bs</td>\n",
       "      <td>0.171157</td>\n",
       "    </tr>\n",
       "    <tr>\n",
       "      <th>14</th>\n",
       "      <td>curr_liab_bs_flag_high</td>\n",
       "      <td>0.135359</td>\n",
       "    </tr>\n",
       "    <tr>\n",
       "      <th>15</th>\n",
       "      <td>curr_liab_bs_flag_error</td>\n",
       "      <td>0.318083</td>\n",
       "    </tr>\n",
       "    <tr>\n",
       "      <th>16</th>\n",
       "      <td>age</td>\n",
       "      <td>-0.035304</td>\n",
       "    </tr>\n",
       "    <tr>\n",
       "      <th>17</th>\n",
       "      <td>Intercept</td>\n",
       "      <td>-2.350569</td>\n",
       "    </tr>\n",
       "  </tbody>\n",
       "</table>\n",
       "</div>"
      ],
      "text/plain": [
       "                   variable  coefficient\n",
       "0             sales_mil_log    -0.180310\n",
       "1          sales_mil_log_sq     0.015300\n",
       "2      d1_sales_mil_log_mod    -0.482108\n",
       "3       profit_loss_year_pl    -0.450082\n",
       "4           C(ind2_cat)[27]     0.145493\n",
       "5           C(ind2_cat)[28]     0.032691\n",
       "6           C(ind2_cat)[29]     0.406298\n",
       "7           C(ind2_cat)[30]    -0.033016\n",
       "8           C(ind2_cat)[33]    -0.157819\n",
       "9           C(ind2_cat)[55]     0.128748\n",
       "10          C(ind2_cat)[56]     0.463619\n",
       "11          fixed_assets_bs    -0.811012\n",
       "12              share_eq_bs    -0.388092\n",
       "13             curr_liab_bs     0.171157\n",
       "14   curr_liab_bs_flag_high     0.135359\n",
       "15  curr_liab_bs_flag_error     0.318083\n",
       "16                      age    -0.035304\n",
       "17                Intercept    -2.350569"
      ]
     },
     "execution_count": 30,
     "metadata": {},
     "output_type": "execute_result"
    }
   ],
   "source": [
    "create_coef_matrix(X2, glm_modelx2)"
   ]
  },
  {
   "cell_type": "code",
   "execution_count": 31,
   "metadata": {},
   "outputs": [
    {
     "name": "stdout",
     "output_type": "stream",
     "text": [
      "Optimization terminated successfully.\n",
      "         Current function value: 0.423258\n",
      "         Iterations 7\n",
      "        Logit Marginal Effects       \n",
      "=====================================\n",
      "Dep. Variable:                default\n",
      "Method:                          dydx\n",
      "At:                           overall\n",
      "===========================================================================================\n",
      "                             dy/dx    std err          z      P>|z|      [0.025      0.975]\n",
      "-------------------------------------------------------------------------------------------\n",
      "sales_mil_log              -0.0242      0.006     -4.015      0.000      -0.036      -0.012\n",
      "sales_mil_log_sq            0.0021      0.001      2.464      0.014       0.000       0.004\n",
      "d1_sales_mil_log_mod       -0.0646      0.005    -12.868      0.000      -0.074      -0.055\n",
      "profit_loss_year_pl        -0.0603      0.008     -7.740      0.000      -0.076      -0.045\n",
      "C(ind2_cat)[27]             0.0195      0.024      0.829      0.407      -0.027       0.066\n",
      "C(ind2_cat)[28]             0.0044      0.018      0.238      0.812      -0.032       0.040\n",
      "C(ind2_cat)[29]             0.0545      0.030      1.816      0.069      -0.004       0.113\n",
      "C(ind2_cat)[30]            -0.0044      0.039     -0.113      0.910      -0.082       0.073\n",
      "C(ind2_cat)[33]            -0.0212      0.018     -1.161      0.245      -0.057       0.015\n",
      "C(ind2_cat)[55]             0.0173      0.018      0.985      0.324      -0.017       0.052\n",
      "C(ind2_cat)[56]             0.0622      0.015      4.068      0.000       0.032       0.092\n",
      "fixed_assets_bs            -0.1087      0.008    -12.793      0.000      -0.125      -0.092\n",
      "share_eq_bs                -0.0520      0.006     -8.414      0.000      -0.064      -0.040\n",
      "curr_liab_bs                0.0229      0.012      1.865      0.062      -0.001       0.047\n",
      "curr_liab_bs_flag_high      0.0181      0.010      1.812      0.070      -0.001       0.038\n",
      "curr_liab_bs_flag_error     0.0426      0.115      0.370      0.711      -0.183       0.269\n",
      "age                        -0.0047      0.000    -10.545      0.000      -0.006      -0.004\n",
      "foreign_management          0.0290      0.009      3.182      0.001       0.011       0.047\n",
      "===========================================================================================\n"
     ]
    }
   ],
   "source": [
    "mx2 = sm.Logit(y,sm.add_constant(X2)).fit().get_margeff()\n",
    "print(mx2.summary())"
   ]
  },
  {
   "cell_type": "markdown",
   "metadata": {},
   "source": [
    "**Baseline model is X4 (all vars, but no interactions)**"
   ]
  },
  {
   "cell_type": "code",
   "execution_count": 32,
   "metadata": {},
   "outputs": [
    {
     "name": "stdout",
     "output_type": "stream",
     "text": [
      "explained_variance:  0.1924\n",
      "r2:  0.1924\n",
      "MAE:  0.2646\n",
      "MSE:  0.1303\n",
      "RMSE:  0.3609\n"
     ]
    }
   ],
   "source": [
    "ols_model = LinearRegression().fit(X4, y)\n",
    "regression_results(y, ols_model.predict(X4))"
   ]
  },
  {
   "cell_type": "code",
   "execution_count": 33,
   "metadata": {},
   "outputs": [
    {
     "data": {
      "text/html": [
       "<div>\n",
       "<style scoped>\n",
       "    .dataframe tbody tr th:only-of-type {\n",
       "        vertical-align: middle;\n",
       "    }\n",
       "\n",
       "    .dataframe tbody tr th {\n",
       "        vertical-align: top;\n",
       "    }\n",
       "\n",
       "    .dataframe thead th {\n",
       "        text-align: right;\n",
       "    }\n",
       "</style>\n",
       "<table border=\"1\" class=\"dataframe\">\n",
       "  <thead>\n",
       "    <tr style=\"text-align: right;\">\n",
       "      <th></th>\n",
       "      <th>variable</th>\n",
       "      <th>coefficient</th>\n",
       "    </tr>\n",
       "  </thead>\n",
       "  <tbody>\n",
       "    <tr>\n",
       "      <th>0</th>\n",
       "      <td>sales_mil_log</td>\n",
       "      <td>3.937242e-03</td>\n",
       "    </tr>\n",
       "    <tr>\n",
       "      <th>1</th>\n",
       "      <td>sales_mil_log_sq</td>\n",
       "      <td>3.264151e-03</td>\n",
       "    </tr>\n",
       "    <tr>\n",
       "      <th>2</th>\n",
       "      <td>total_assets_bs</td>\n",
       "      <td>5.475821e-10</td>\n",
       "    </tr>\n",
       "    <tr>\n",
       "      <th>3</th>\n",
       "      <td>fixed_assets_bs</td>\n",
       "      <td>-1.360564e-01</td>\n",
       "    </tr>\n",
       "    <tr>\n",
       "      <th>4</th>\n",
       "      <td>liq_assets_bs</td>\n",
       "      <td>-1.602016e-02</td>\n",
       "    </tr>\n",
       "    <tr>\n",
       "      <th>...</th>\n",
       "      <td>...</td>\n",
       "      <td>...</td>\n",
       "    </tr>\n",
       "    <tr>\n",
       "      <th>74</th>\n",
       "      <td>C(ind2_cat)[56]</td>\n",
       "      <td>5.406954e-02</td>\n",
       "    </tr>\n",
       "    <tr>\n",
       "      <th>75</th>\n",
       "      <td>C(m_region_loc)[East]</td>\n",
       "      <td>1.015797e-02</td>\n",
       "    </tr>\n",
       "    <tr>\n",
       "      <th>76</th>\n",
       "      <td>C(m_region_loc)[West]</td>\n",
       "      <td>-1.783071e-02</td>\n",
       "    </tr>\n",
       "    <tr>\n",
       "      <th>77</th>\n",
       "      <td>C(urban_m)[2]</td>\n",
       "      <td>8.293544e-03</td>\n",
       "    </tr>\n",
       "    <tr>\n",
       "      <th>78</th>\n",
       "      <td>Intercept</td>\n",
       "      <td>1.839788e-01</td>\n",
       "    </tr>\n",
       "  </tbody>\n",
       "</table>\n",
       "<p>79 rows × 2 columns</p>\n",
       "</div>"
      ],
      "text/plain": [
       "                 variable   coefficient\n",
       "0           sales_mil_log  3.937242e-03\n",
       "1        sales_mil_log_sq  3.264151e-03\n",
       "2         total_assets_bs  5.475821e-10\n",
       "3         fixed_assets_bs -1.360564e-01\n",
       "4           liq_assets_bs -1.602016e-02\n",
       "..                    ...           ...\n",
       "74        C(ind2_cat)[56]  5.406954e-02\n",
       "75  C(m_region_loc)[East]  1.015797e-02\n",
       "76  C(m_region_loc)[West] -1.783071e-02\n",
       "77          C(urban_m)[2]  8.293544e-03\n",
       "78              Intercept  1.839788e-01\n",
       "\n",
       "[79 rows x 2 columns]"
      ]
     },
     "execution_count": 33,
     "metadata": {},
     "output_type": "execute_result"
    }
   ],
   "source": [
    "create_coef_matrix(X4, ols_model)"
   ]
  },
  {
   "cell_type": "code",
   "execution_count": 34,
   "metadata": {},
   "outputs": [
    {
     "name": "stdout",
     "output_type": "stream",
     "text": [
      "explained_variance:  -0.038\n",
      "r2:  -0.1205\n",
      "MAE:  0.1807\n",
      "MSE:  0.1807\n",
      "RMSE:  0.4251\n"
     ]
    }
   ],
   "source": [
    "glm_model = LogisticRegression(solver=\"newton-cg\",max_iter=1000, penalty=\"none\").fit(X4, y)\n",
    "regression_results(y, glm_model.predict(X4))"
   ]
  },
  {
   "cell_type": "code",
   "execution_count": 35,
   "metadata": {},
   "outputs": [
    {
     "data": {
      "text/html": [
       "<div>\n",
       "<style scoped>\n",
       "    .dataframe tbody tr th:only-of-type {\n",
       "        vertical-align: middle;\n",
       "    }\n",
       "\n",
       "    .dataframe tbody tr th {\n",
       "        vertical-align: top;\n",
       "    }\n",
       "\n",
       "    .dataframe thead th {\n",
       "        text-align: right;\n",
       "    }\n",
       "</style>\n",
       "<table border=\"1\" class=\"dataframe\">\n",
       "  <thead>\n",
       "    <tr style=\"text-align: right;\">\n",
       "      <th></th>\n",
       "      <th>variable</th>\n",
       "      <th>coefficient</th>\n",
       "    </tr>\n",
       "  </thead>\n",
       "  <tbody>\n",
       "    <tr>\n",
       "      <th>0</th>\n",
       "      <td>sales_mil_log</td>\n",
       "      <td>-2.066495e-01</td>\n",
       "    </tr>\n",
       "    <tr>\n",
       "      <th>1</th>\n",
       "      <td>sales_mil_log_sq</td>\n",
       "      <td>-3.912022e-03</td>\n",
       "    </tr>\n",
       "    <tr>\n",
       "      <th>2</th>\n",
       "      <td>total_assets_bs</td>\n",
       "      <td>7.324287e-09</td>\n",
       "    </tr>\n",
       "    <tr>\n",
       "      <th>3</th>\n",
       "      <td>fixed_assets_bs</td>\n",
       "      <td>-5.944108e-01</td>\n",
       "    </tr>\n",
       "    <tr>\n",
       "      <th>4</th>\n",
       "      <td>liq_assets_bs</td>\n",
       "      <td>-1.118215e-01</td>\n",
       "    </tr>\n",
       "    <tr>\n",
       "      <th>...</th>\n",
       "      <td>...</td>\n",
       "      <td>...</td>\n",
       "    </tr>\n",
       "    <tr>\n",
       "      <th>74</th>\n",
       "      <td>C(ind2_cat)[56]</td>\n",
       "      <td>4.661660e-01</td>\n",
       "    </tr>\n",
       "    <tr>\n",
       "      <th>75</th>\n",
       "      <td>C(m_region_loc)[East]</td>\n",
       "      <td>6.240940e-02</td>\n",
       "    </tr>\n",
       "    <tr>\n",
       "      <th>76</th>\n",
       "      <td>C(m_region_loc)[West]</td>\n",
       "      <td>-1.625753e-01</td>\n",
       "    </tr>\n",
       "    <tr>\n",
       "      <th>77</th>\n",
       "      <td>C(urban_m)[2]</td>\n",
       "      <td>1.438220e-02</td>\n",
       "    </tr>\n",
       "    <tr>\n",
       "      <th>78</th>\n",
       "      <td>Intercept</td>\n",
       "      <td>-2.416555e+00</td>\n",
       "    </tr>\n",
       "  </tbody>\n",
       "</table>\n",
       "<p>79 rows × 2 columns</p>\n",
       "</div>"
      ],
      "text/plain": [
       "                 variable   coefficient\n",
       "0           sales_mil_log -2.066495e-01\n",
       "1        sales_mil_log_sq -3.912022e-03\n",
       "2         total_assets_bs  7.324287e-09\n",
       "3         fixed_assets_bs -5.944108e-01\n",
       "4           liq_assets_bs -1.118215e-01\n",
       "..                    ...           ...\n",
       "74        C(ind2_cat)[56]  4.661660e-01\n",
       "75  C(m_region_loc)[East]  6.240940e-02\n",
       "76  C(m_region_loc)[West] -1.625753e-01\n",
       "77          C(urban_m)[2]  1.438220e-02\n",
       "78              Intercept -2.416555e+00\n",
       "\n",
       "[79 rows x 2 columns]"
      ]
     },
     "execution_count": 35,
     "metadata": {},
     "output_type": "execute_result"
    }
   ],
   "source": [
    "create_coef_matrix(X4, glm_model)"
   ]
  },
  {
   "cell_type": "code",
   "execution_count": 36,
   "metadata": {},
   "outputs": [
    {
     "name": "stdout",
     "output_type": "stream",
     "text": [
      "Warning: Maximum number of iterations has been exceeded.\n",
      "         Current function value: 0.409571\n",
      "         Iterations: 35\n"
     ]
    }
   ],
   "source": [
    "# Get marginal effects\n",
    "m = sm.Logit(y,sm.add_constant(X4)).fit().get_margeff()"
   ]
  },
  {
   "cell_type": "code",
   "execution_count": 37,
   "metadata": {},
   "outputs": [
    {
     "data": {
      "text/plain": [
       "statsmodels.discrete.discrete_margins.DiscreteMargins"
      ]
     },
     "execution_count": 37,
     "metadata": {},
     "output_type": "execute_result"
    }
   ],
   "source": [
    "type(m)"
   ]
  },
  {
   "cell_type": "code",
   "execution_count": 38,
   "metadata": {},
   "outputs": [
    {
     "name": "stdout",
     "output_type": "stream",
     "text": [
      "        Logit Marginal Effects       \n",
      "=====================================\n",
      "Dep. Variable:                default\n",
      "Method:                          dydx\n",
      "At:                           overall\n",
      "==================================================================================================\n",
      "                                    dy/dx    std err          z      P>|z|      [0.025      0.975]\n",
      "--------------------------------------------------------------------------------------------------\n",
      "sales_mil_log                     -0.0266      0.008     -3.422      0.001      -0.042      -0.011\n",
      "sales_mil_log_sq                  -0.0005      0.001     -0.496      0.620      -0.002       0.001\n",
      "total_assets_bs                 9.459e-10   3.19e-09      0.297      0.767    -5.3e-09    7.19e-09\n",
      "fixed_assets_bs                   -0.0786      0.137     -0.573      0.566      -0.347       0.190\n",
      "liq_assets_bs                     -0.0144      0.011     -1.324      0.186      -0.036       0.007\n",
      "curr_assets_bs                     0.0232      0.137      0.169      0.865      -0.246       0.292\n",
      "share_eq_bs                       -0.0386      0.009     -4.265      0.000      -0.056      -0.021\n",
      "subscribed_cap_bs                  0.0106      0.013      0.844      0.399      -0.014       0.035\n",
      "intang_assets_bs                  -0.0186      0.146     -0.127      0.899      -0.305       0.268\n",
      "extra_exp_pl                       0.0318      0.180      0.176      0.860      -0.321       0.385\n",
      "extra_inc_pl                       0.2488      0.248      1.004      0.316      -0.237       0.735\n",
      "extra_profit_loss_pl              -0.1409      0.193     -0.731      0.465      -0.519       0.237\n",
      "inc_bef_tax_pl                    -0.0879      0.048     -1.816      0.069      -0.183       0.007\n",
      "inventories_pl                    -0.0795      0.019     -4.088      0.000      -0.118      -0.041\n",
      "material_exp_pl                   -0.0002      0.017     -0.012      0.991      -0.034       0.033\n",
      "profit_loss_year_pl                0.0701      0.048      1.463      0.144      -0.024       0.164\n",
      "personnel_exp_pl                  -0.0371      0.016     -2.355      0.019      -0.068      -0.006\n",
      "d1_sales_mil_log_mod              -0.0553      0.007     -8.091      0.000      -0.069      -0.042\n",
      "d1_sales_mil_log_mod_sq            0.0606      0.008      7.905      0.000       0.046       0.076\n",
      "flag_low_d1_sales_mil_log         -0.0644      0.019     -3.432      0.001      -0.101      -0.028\n",
      "flag_high_d1_sales_mil_log         0.0081      0.027      0.304      0.761      -0.044       0.060\n",
      "extra_profit_loss_pl_quad         -0.0170      0.146     -0.117      0.907      -0.303       0.269\n",
      "inc_bef_tax_pl_quad                0.0860      0.059      1.471      0.141      -0.029       0.201\n",
      "profit_loss_year_pl_quad           0.0255      0.063      0.408      0.684      -0.097       0.148\n",
      "share_eq_bs_quad                   0.0068      0.012      0.563      0.573      -0.017       0.031\n",
      "extra_exp_pl_flag_high            -0.1282      0.271     -0.473      0.636      -0.659       0.402\n",
      "extra_inc_pl_flag_high            -0.0072      0.302     -0.024      0.981      -0.598       0.584\n",
      "inventories_pl_flag_high           0.0616      0.023      2.700      0.007       0.017       0.106\n",
      "material_exp_pl_flag_high          0.0003      0.009      0.032      0.975      -0.017       0.017\n",
      "personnel_exp_pl_flag_high         0.0500      0.015      3.280      0.001       0.020       0.080\n",
      "curr_liab_bs_flag_high             0.0248      0.008      2.963      0.003       0.008       0.041\n",
      "liq_assets_bs_flag_high           -0.2030      0.180     -1.125      0.260      -0.556       0.150\n",
      "subscribed_cap_bs_flag_high        0.0157      0.011      1.405      0.160      -0.006       0.037\n",
      "extra_exp_pl_flag_error           -3.1876   1.39e+05   -2.3e-05      1.000   -2.72e+05    2.72e+05\n",
      "extra_inc_pl_flag_error          -20.0014   1.77e+33  -1.13e-32      1.000   -3.47e+33    3.47e+33\n",
      "inventories_pl_flag_error          0.3002      0.165      1.823      0.068      -0.022       0.623\n",
      "material_exp_pl_flag_error        -3.8164   2.92e+05  -1.31e-05      1.000   -5.72e+05    5.72e+05\n",
      "personnel_exp_pl_flag_error        0.2599      0.211      1.230      0.219      -0.154       0.674\n",
      "curr_liab_bs_flag_error            0.0542      0.113      0.481      0.631      -0.167       0.275\n",
      "liq_assets_bs_flag_error           0.1024      0.060      1.699      0.089      -0.016       0.221\n",
      "subscribed_cap_bs_flag_error       1.8039    274.303      0.007      0.995    -535.820     539.428\n",
      "extra_profit_loss_pl_flag_low     -2.1603    249.105     -0.009      0.993    -490.397     486.076\n",
      "inc_bef_tax_pl_flag_low           -0.0598      0.115     -0.518      0.604      -0.286       0.166\n",
      "profit_loss_year_pl_flag_low       0.0067      0.116      0.058      0.954      -0.221       0.234\n",
      "share_eq_bs_flag_low               0.0231      0.015      1.502      0.133      -0.007       0.053\n",
      "extra_profit_loss_pl_flag_high     0.0019      0.329      0.006      0.995      -0.642       0.646\n",
      "inc_bef_tax_pl_flag_high           0.0446      0.087      0.512      0.609      -0.126       0.216\n",
      "profit_loss_year_pl_flag_high     -0.0749      0.094     -0.798      0.425      -0.259       0.109\n",
      "share_eq_bs_flag_high             -0.0225      0.031     -0.722      0.470      -0.084       0.039\n",
      "extra_profit_loss_pl_flag_zero     0.0237      0.011      2.112      0.035       0.002       0.046\n",
      "inc_bef_tax_pl_flag_zero           0.1899      0.052      3.659      0.000       0.088       0.292\n",
      "profit_loss_year_pl_flag_zero     -0.0074      0.024     -0.313      0.755      -0.054       0.039\n",
      "share_eq_bs_flag_zero              0.2465      0.129      1.914      0.056      -0.006       0.499\n",
      "female                            -0.0136      0.006     -2.116      0.034      -0.026      -0.001\n",
      "ceo_age                           -0.0011      0.000     -3.627      0.000      -0.002      -0.000\n",
      "flag_high_ceo_age                  0.0589      0.041      1.436      0.151      -0.021       0.139\n",
      "flag_low_ceo_age                   0.0028      0.022      0.130      0.896      -0.040       0.045\n",
      "flag_miss_ceo_age                  0.0762      0.008      9.662      0.000       0.061       0.092\n",
      "ceo_count                         -0.0079      0.006     -1.420      0.155      -0.019       0.003\n",
      "labor_avg_mod                      0.0026      0.004      0.696      0.486      -0.005       0.010\n",
      "flag_miss_labor_avg               -0.0005      0.009     -0.058      0.954      -0.018       0.017\n",
      "foreign_management                -0.0254      0.010     -2.420      0.016      -0.046      -0.005\n",
      "balsheet_flag                      0.0900      0.059      1.525      0.127      -0.026       0.206\n",
      "balsheet_length                 1.688e-05    9.3e-05      0.182      0.856      -0.000       0.000\n",
      "balsheet_notfullyear               0.0121      0.018      0.664      0.507      -0.024       0.048\n",
      "age                               -0.0030      0.002     -1.526      0.127      -0.007       0.001\n",
      "age2                           -4.853e-06   8.86e-05     -0.055      0.956      -0.000       0.000\n",
      "new                                0.0439      0.009      4.776      0.000       0.026       0.062\n",
      "C(ind2_cat)[27]                    0.0115      0.023      0.502      0.616      -0.034       0.057\n",
      "C(ind2_cat)[28]                    0.0029      0.018      0.158      0.874      -0.032       0.038\n",
      "C(ind2_cat)[29]                    0.0505      0.030      1.707      0.088      -0.007       0.108\n",
      "C(ind2_cat)[30]                   -0.0065      0.038     -0.170      0.865      -0.082       0.069\n",
      "C(ind2_cat)[33]                   -0.0173      0.018     -0.970      0.332      -0.052       0.018\n",
      "C(ind2_cat)[55]                    0.0201      0.017      1.164      0.244      -0.014       0.054\n",
      "C(ind2_cat)[56]                    0.0600      0.015      3.966      0.000       0.030       0.090\n",
      "C(m_region_loc)[East]              0.0080      0.007      1.126      0.260      -0.006       0.022\n",
      "C(m_region_loc)[West]             -0.0209      0.009     -2.406      0.016      -0.038      -0.004\n",
      "C(urban_m)[2]                      0.0019      0.008      0.237      0.813      -0.014       0.017\n",
      "C(urban_m)[3]                     -0.0065      0.007     -0.897      0.370      -0.021       0.008\n",
      "==================================================================================================\n"
     ]
    }
   ],
   "source": [
    "print(m.summary())"
   ]
  },
  {
   "cell_type": "markdown",
   "metadata": {},
   "source": [
    "<br> \n",
    "\n",
    "**Keep significant variables only**"
   ]
  },
  {
   "cell_type": "code",
   "execution_count": 39,
   "metadata": {},
   "outputs": [],
   "source": [
    "t = m.summary().tables[1]"
   ]
  },
  {
   "cell_type": "code",
   "execution_count": 40,
   "metadata": {},
   "outputs": [
    {
     "data": {
      "text/html": [
       "<table class=\"simpletable\">\n",
       "<tr>\n",
       "                 <th></th>                   <th>dy/dx</th>    <th>std err</th>      <th>z</th>      <th>P>|z|</th>  <th>[0.025</th>    <th>0.975]</th>  \n",
       "</tr>\n",
       "<tr>\n",
       "  <th>sales_mil_log</th>                  <td>   -0.0266</td> <td>    0.008</td> <td>   -3.422</td> <td> 0.001</td> <td>   -0.042</td> <td>   -0.011</td>\n",
       "</tr>\n",
       "<tr>\n",
       "  <th>sales_mil_log_sq</th>               <td>   -0.0005</td> <td>    0.001</td> <td>   -0.496</td> <td> 0.620</td> <td>   -0.002</td> <td>    0.001</td>\n",
       "</tr>\n",
       "<tr>\n",
       "  <th>total_assets_bs</th>                <td> 9.459e-10</td> <td> 3.19e-09</td> <td>    0.297</td> <td> 0.767</td> <td> -5.3e-09</td> <td> 7.19e-09</td>\n",
       "</tr>\n",
       "<tr>\n",
       "  <th>fixed_assets_bs</th>                <td>   -0.0786</td> <td>    0.137</td> <td>   -0.573</td> <td> 0.566</td> <td>   -0.347</td> <td>    0.190</td>\n",
       "</tr>\n",
       "<tr>\n",
       "  <th>liq_assets_bs</th>                  <td>   -0.0144</td> <td>    0.011</td> <td>   -1.324</td> <td> 0.186</td> <td>   -0.036</td> <td>    0.007</td>\n",
       "</tr>\n",
       "<tr>\n",
       "  <th>curr_assets_bs</th>                 <td>    0.0232</td> <td>    0.137</td> <td>    0.169</td> <td> 0.865</td> <td>   -0.246</td> <td>    0.292</td>\n",
       "</tr>\n",
       "<tr>\n",
       "  <th>share_eq_bs</th>                    <td>   -0.0386</td> <td>    0.009</td> <td>   -4.265</td> <td> 0.000</td> <td>   -0.056</td> <td>   -0.021</td>\n",
       "</tr>\n",
       "<tr>\n",
       "  <th>subscribed_cap_bs</th>              <td>    0.0106</td> <td>    0.013</td> <td>    0.844</td> <td> 0.399</td> <td>   -0.014</td> <td>    0.035</td>\n",
       "</tr>\n",
       "<tr>\n",
       "  <th>intang_assets_bs</th>               <td>   -0.0186</td> <td>    0.146</td> <td>   -0.127</td> <td> 0.899</td> <td>   -0.305</td> <td>    0.268</td>\n",
       "</tr>\n",
       "<tr>\n",
       "  <th>extra_exp_pl</th>                   <td>    0.0318</td> <td>    0.180</td> <td>    0.176</td> <td> 0.860</td> <td>   -0.321</td> <td>    0.385</td>\n",
       "</tr>\n",
       "<tr>\n",
       "  <th>extra_inc_pl</th>                   <td>    0.2488</td> <td>    0.248</td> <td>    1.004</td> <td> 0.316</td> <td>   -0.237</td> <td>    0.735</td>\n",
       "</tr>\n",
       "<tr>\n",
       "  <th>extra_profit_loss_pl</th>           <td>   -0.1409</td> <td>    0.193</td> <td>   -0.731</td> <td> 0.465</td> <td>   -0.519</td> <td>    0.237</td>\n",
       "</tr>\n",
       "<tr>\n",
       "  <th>inc_bef_tax_pl</th>                 <td>   -0.0879</td> <td>    0.048</td> <td>   -1.816</td> <td> 0.069</td> <td>   -0.183</td> <td>    0.007</td>\n",
       "</tr>\n",
       "<tr>\n",
       "  <th>inventories_pl</th>                 <td>   -0.0795</td> <td>    0.019</td> <td>   -4.088</td> <td> 0.000</td> <td>   -0.118</td> <td>   -0.041</td>\n",
       "</tr>\n",
       "<tr>\n",
       "  <th>material_exp_pl</th>                <td>   -0.0002</td> <td>    0.017</td> <td>   -0.012</td> <td> 0.991</td> <td>   -0.034</td> <td>    0.033</td>\n",
       "</tr>\n",
       "<tr>\n",
       "  <th>profit_loss_year_pl</th>            <td>    0.0701</td> <td>    0.048</td> <td>    1.463</td> <td> 0.144</td> <td>   -0.024</td> <td>    0.164</td>\n",
       "</tr>\n",
       "<tr>\n",
       "  <th>personnel_exp_pl</th>               <td>   -0.0371</td> <td>    0.016</td> <td>   -2.355</td> <td> 0.019</td> <td>   -0.068</td> <td>   -0.006</td>\n",
       "</tr>\n",
       "<tr>\n",
       "  <th>d1_sales_mil_log_mod</th>           <td>   -0.0553</td> <td>    0.007</td> <td>   -8.091</td> <td> 0.000</td> <td>   -0.069</td> <td>   -0.042</td>\n",
       "</tr>\n",
       "<tr>\n",
       "  <th>d1_sales_mil_log_mod_sq</th>        <td>    0.0606</td> <td>    0.008</td> <td>    7.905</td> <td> 0.000</td> <td>    0.046</td> <td>    0.076</td>\n",
       "</tr>\n",
       "<tr>\n",
       "  <th>flag_low_d1_sales_mil_log</th>      <td>   -0.0644</td> <td>    0.019</td> <td>   -3.432</td> <td> 0.001</td> <td>   -0.101</td> <td>   -0.028</td>\n",
       "</tr>\n",
       "<tr>\n",
       "  <th>flag_high_d1_sales_mil_log</th>     <td>    0.0081</td> <td>    0.027</td> <td>    0.304</td> <td> 0.761</td> <td>   -0.044</td> <td>    0.060</td>\n",
       "</tr>\n",
       "<tr>\n",
       "  <th>extra_profit_loss_pl_quad</th>      <td>   -0.0170</td> <td>    0.146</td> <td>   -0.117</td> <td> 0.907</td> <td>   -0.303</td> <td>    0.269</td>\n",
       "</tr>\n",
       "<tr>\n",
       "  <th>inc_bef_tax_pl_quad</th>            <td>    0.0860</td> <td>    0.059</td> <td>    1.471</td> <td> 0.141</td> <td>   -0.029</td> <td>    0.201</td>\n",
       "</tr>\n",
       "<tr>\n",
       "  <th>profit_loss_year_pl_quad</th>       <td>    0.0255</td> <td>    0.063</td> <td>    0.408</td> <td> 0.684</td> <td>   -0.097</td> <td>    0.148</td>\n",
       "</tr>\n",
       "<tr>\n",
       "  <th>share_eq_bs_quad</th>               <td>    0.0068</td> <td>    0.012</td> <td>    0.563</td> <td> 0.573</td> <td>   -0.017</td> <td>    0.031</td>\n",
       "</tr>\n",
       "<tr>\n",
       "  <th>extra_exp_pl_flag_high</th>         <td>   -0.1282</td> <td>    0.271</td> <td>   -0.473</td> <td> 0.636</td> <td>   -0.659</td> <td>    0.402</td>\n",
       "</tr>\n",
       "<tr>\n",
       "  <th>extra_inc_pl_flag_high</th>         <td>   -0.0072</td> <td>    0.302</td> <td>   -0.024</td> <td> 0.981</td> <td>   -0.598</td> <td>    0.584</td>\n",
       "</tr>\n",
       "<tr>\n",
       "  <th>inventories_pl_flag_high</th>       <td>    0.0616</td> <td>    0.023</td> <td>    2.700</td> <td> 0.007</td> <td>    0.017</td> <td>    0.106</td>\n",
       "</tr>\n",
       "<tr>\n",
       "  <th>material_exp_pl_flag_high</th>      <td>    0.0003</td> <td>    0.009</td> <td>    0.032</td> <td> 0.975</td> <td>   -0.017</td> <td>    0.017</td>\n",
       "</tr>\n",
       "<tr>\n",
       "  <th>personnel_exp_pl_flag_high</th>     <td>    0.0500</td> <td>    0.015</td> <td>    3.280</td> <td> 0.001</td> <td>    0.020</td> <td>    0.080</td>\n",
       "</tr>\n",
       "<tr>\n",
       "  <th>curr_liab_bs_flag_high</th>         <td>    0.0248</td> <td>    0.008</td> <td>    2.963</td> <td> 0.003</td> <td>    0.008</td> <td>    0.041</td>\n",
       "</tr>\n",
       "<tr>\n",
       "  <th>liq_assets_bs_flag_high</th>        <td>   -0.2030</td> <td>    0.180</td> <td>   -1.125</td> <td> 0.260</td> <td>   -0.556</td> <td>    0.150</td>\n",
       "</tr>\n",
       "<tr>\n",
       "  <th>subscribed_cap_bs_flag_high</th>    <td>    0.0157</td> <td>    0.011</td> <td>    1.405</td> <td> 0.160</td> <td>   -0.006</td> <td>    0.037</td>\n",
       "</tr>\n",
       "<tr>\n",
       "  <th>extra_exp_pl_flag_error</th>        <td>   -3.1876</td> <td> 1.39e+05</td> <td> -2.3e-05</td> <td> 1.000</td> <td>-2.72e+05</td> <td> 2.72e+05</td>\n",
       "</tr>\n",
       "<tr>\n",
       "  <th>extra_inc_pl_flag_error</th>        <td>  -20.0014</td> <td> 1.77e+33</td> <td>-1.13e-32</td> <td> 1.000</td> <td>-3.47e+33</td> <td> 3.47e+33</td>\n",
       "</tr>\n",
       "<tr>\n",
       "  <th>inventories_pl_flag_error</th>      <td>    0.3002</td> <td>    0.165</td> <td>    1.823</td> <td> 0.068</td> <td>   -0.022</td> <td>    0.623</td>\n",
       "</tr>\n",
       "<tr>\n",
       "  <th>material_exp_pl_flag_error</th>     <td>   -3.8164</td> <td> 2.92e+05</td> <td>-1.31e-05</td> <td> 1.000</td> <td>-5.72e+05</td> <td> 5.72e+05</td>\n",
       "</tr>\n",
       "<tr>\n",
       "  <th>personnel_exp_pl_flag_error</th>    <td>    0.2599</td> <td>    0.211</td> <td>    1.230</td> <td> 0.219</td> <td>   -0.154</td> <td>    0.674</td>\n",
       "</tr>\n",
       "<tr>\n",
       "  <th>curr_liab_bs_flag_error</th>        <td>    0.0542</td> <td>    0.113</td> <td>    0.481</td> <td> 0.631</td> <td>   -0.167</td> <td>    0.275</td>\n",
       "</tr>\n",
       "<tr>\n",
       "  <th>liq_assets_bs_flag_error</th>       <td>    0.1024</td> <td>    0.060</td> <td>    1.699</td> <td> 0.089</td> <td>   -0.016</td> <td>    0.221</td>\n",
       "</tr>\n",
       "<tr>\n",
       "  <th>subscribed_cap_bs_flag_error</th>   <td>    1.8039</td> <td>  274.303</td> <td>    0.007</td> <td> 0.995</td> <td> -535.820</td> <td>  539.428</td>\n",
       "</tr>\n",
       "<tr>\n",
       "  <th>extra_profit_loss_pl_flag_low</th>  <td>   -2.1603</td> <td>  249.105</td> <td>   -0.009</td> <td> 0.993</td> <td> -490.397</td> <td>  486.076</td>\n",
       "</tr>\n",
       "<tr>\n",
       "  <th>inc_bef_tax_pl_flag_low</th>        <td>   -0.0598</td> <td>    0.115</td> <td>   -0.518</td> <td> 0.604</td> <td>   -0.286</td> <td>    0.166</td>\n",
       "</tr>\n",
       "<tr>\n",
       "  <th>profit_loss_year_pl_flag_low</th>   <td>    0.0067</td> <td>    0.116</td> <td>    0.058</td> <td> 0.954</td> <td>   -0.221</td> <td>    0.234</td>\n",
       "</tr>\n",
       "<tr>\n",
       "  <th>share_eq_bs_flag_low</th>           <td>    0.0231</td> <td>    0.015</td> <td>    1.502</td> <td> 0.133</td> <td>   -0.007</td> <td>    0.053</td>\n",
       "</tr>\n",
       "<tr>\n",
       "  <th>extra_profit_loss_pl_flag_high</th> <td>    0.0019</td> <td>    0.329</td> <td>    0.006</td> <td> 0.995</td> <td>   -0.642</td> <td>    0.646</td>\n",
       "</tr>\n",
       "<tr>\n",
       "  <th>inc_bef_tax_pl_flag_high</th>       <td>    0.0446</td> <td>    0.087</td> <td>    0.512</td> <td> 0.609</td> <td>   -0.126</td> <td>    0.216</td>\n",
       "</tr>\n",
       "<tr>\n",
       "  <th>profit_loss_year_pl_flag_high</th>  <td>   -0.0749</td> <td>    0.094</td> <td>   -0.798</td> <td> 0.425</td> <td>   -0.259</td> <td>    0.109</td>\n",
       "</tr>\n",
       "<tr>\n",
       "  <th>share_eq_bs_flag_high</th>          <td>   -0.0225</td> <td>    0.031</td> <td>   -0.722</td> <td> 0.470</td> <td>   -0.084</td> <td>    0.039</td>\n",
       "</tr>\n",
       "<tr>\n",
       "  <th>extra_profit_loss_pl_flag_zero</th> <td>    0.0237</td> <td>    0.011</td> <td>    2.112</td> <td> 0.035</td> <td>    0.002</td> <td>    0.046</td>\n",
       "</tr>\n",
       "<tr>\n",
       "  <th>inc_bef_tax_pl_flag_zero</th>       <td>    0.1899</td> <td>    0.052</td> <td>    3.659</td> <td> 0.000</td> <td>    0.088</td> <td>    0.292</td>\n",
       "</tr>\n",
       "<tr>\n",
       "  <th>profit_loss_year_pl_flag_zero</th>  <td>   -0.0074</td> <td>    0.024</td> <td>   -0.313</td> <td> 0.755</td> <td>   -0.054</td> <td>    0.039</td>\n",
       "</tr>\n",
       "<tr>\n",
       "  <th>share_eq_bs_flag_zero</th>          <td>    0.2465</td> <td>    0.129</td> <td>    1.914</td> <td> 0.056</td> <td>   -0.006</td> <td>    0.499</td>\n",
       "</tr>\n",
       "<tr>\n",
       "  <th>female</th>                         <td>   -0.0136</td> <td>    0.006</td> <td>   -2.116</td> <td> 0.034</td> <td>   -0.026</td> <td>   -0.001</td>\n",
       "</tr>\n",
       "<tr>\n",
       "  <th>ceo_age</th>                        <td>   -0.0011</td> <td>    0.000</td> <td>   -3.627</td> <td> 0.000</td> <td>   -0.002</td> <td>   -0.000</td>\n",
       "</tr>\n",
       "<tr>\n",
       "  <th>flag_high_ceo_age</th>              <td>    0.0589</td> <td>    0.041</td> <td>    1.436</td> <td> 0.151</td> <td>   -0.021</td> <td>    0.139</td>\n",
       "</tr>\n",
       "<tr>\n",
       "  <th>flag_low_ceo_age</th>               <td>    0.0028</td> <td>    0.022</td> <td>    0.130</td> <td> 0.896</td> <td>   -0.040</td> <td>    0.045</td>\n",
       "</tr>\n",
       "<tr>\n",
       "  <th>flag_miss_ceo_age</th>              <td>    0.0762</td> <td>    0.008</td> <td>    9.662</td> <td> 0.000</td> <td>    0.061</td> <td>    0.092</td>\n",
       "</tr>\n",
       "<tr>\n",
       "  <th>ceo_count</th>                      <td>   -0.0079</td> <td>    0.006</td> <td>   -1.420</td> <td> 0.155</td> <td>   -0.019</td> <td>    0.003</td>\n",
       "</tr>\n",
       "<tr>\n",
       "  <th>labor_avg_mod</th>                  <td>    0.0026</td> <td>    0.004</td> <td>    0.696</td> <td> 0.486</td> <td>   -0.005</td> <td>    0.010</td>\n",
       "</tr>\n",
       "<tr>\n",
       "  <th>flag_miss_labor_avg</th>            <td>   -0.0005</td> <td>    0.009</td> <td>   -0.058</td> <td> 0.954</td> <td>   -0.018</td> <td>    0.017</td>\n",
       "</tr>\n",
       "<tr>\n",
       "  <th>foreign_management</th>             <td>   -0.0254</td> <td>    0.010</td> <td>   -2.420</td> <td> 0.016</td> <td>   -0.046</td> <td>   -0.005</td>\n",
       "</tr>\n",
       "<tr>\n",
       "  <th>balsheet_flag</th>                  <td>    0.0900</td> <td>    0.059</td> <td>    1.525</td> <td> 0.127</td> <td>   -0.026</td> <td>    0.206</td>\n",
       "</tr>\n",
       "<tr>\n",
       "  <th>balsheet_length</th>                <td> 1.688e-05</td> <td>  9.3e-05</td> <td>    0.182</td> <td> 0.856</td> <td>   -0.000</td> <td>    0.000</td>\n",
       "</tr>\n",
       "<tr>\n",
       "  <th>balsheet_notfullyear</th>           <td>    0.0121</td> <td>    0.018</td> <td>    0.664</td> <td> 0.507</td> <td>   -0.024</td> <td>    0.048</td>\n",
       "</tr>\n",
       "<tr>\n",
       "  <th>age</th>                            <td>   -0.0030</td> <td>    0.002</td> <td>   -1.526</td> <td> 0.127</td> <td>   -0.007</td> <td>    0.001</td>\n",
       "</tr>\n",
       "<tr>\n",
       "  <th>age2</th>                           <td>-4.853e-06</td> <td> 8.86e-05</td> <td>   -0.055</td> <td> 0.956</td> <td>   -0.000</td> <td>    0.000</td>\n",
       "</tr>\n",
       "<tr>\n",
       "  <th>new</th>                            <td>    0.0439</td> <td>    0.009</td> <td>    4.776</td> <td> 0.000</td> <td>    0.026</td> <td>    0.062</td>\n",
       "</tr>\n",
       "<tr>\n",
       "  <th>C(ind2_cat)[27]</th>                <td>    0.0115</td> <td>    0.023</td> <td>    0.502</td> <td> 0.616</td> <td>   -0.034</td> <td>    0.057</td>\n",
       "</tr>\n",
       "<tr>\n",
       "  <th>C(ind2_cat)[28]</th>                <td>    0.0029</td> <td>    0.018</td> <td>    0.158</td> <td> 0.874</td> <td>   -0.032</td> <td>    0.038</td>\n",
       "</tr>\n",
       "<tr>\n",
       "  <th>C(ind2_cat)[29]</th>                <td>    0.0505</td> <td>    0.030</td> <td>    1.707</td> <td> 0.088</td> <td>   -0.007</td> <td>    0.108</td>\n",
       "</tr>\n",
       "<tr>\n",
       "  <th>C(ind2_cat)[30]</th>                <td>   -0.0065</td> <td>    0.038</td> <td>   -0.170</td> <td> 0.865</td> <td>   -0.082</td> <td>    0.069</td>\n",
       "</tr>\n",
       "<tr>\n",
       "  <th>C(ind2_cat)[33]</th>                <td>   -0.0173</td> <td>    0.018</td> <td>   -0.970</td> <td> 0.332</td> <td>   -0.052</td> <td>    0.018</td>\n",
       "</tr>\n",
       "<tr>\n",
       "  <th>C(ind2_cat)[55]</th>                <td>    0.0201</td> <td>    0.017</td> <td>    1.164</td> <td> 0.244</td> <td>   -0.014</td> <td>    0.054</td>\n",
       "</tr>\n",
       "<tr>\n",
       "  <th>C(ind2_cat)[56]</th>                <td>    0.0600</td> <td>    0.015</td> <td>    3.966</td> <td> 0.000</td> <td>    0.030</td> <td>    0.090</td>\n",
       "</tr>\n",
       "<tr>\n",
       "  <th>C(m_region_loc)[East]</th>          <td>    0.0080</td> <td>    0.007</td> <td>    1.126</td> <td> 0.260</td> <td>   -0.006</td> <td>    0.022</td>\n",
       "</tr>\n",
       "<tr>\n",
       "  <th>C(m_region_loc)[West]</th>          <td>   -0.0209</td> <td>    0.009</td> <td>   -2.406</td> <td> 0.016</td> <td>   -0.038</td> <td>   -0.004</td>\n",
       "</tr>\n",
       "<tr>\n",
       "  <th>C(urban_m)[2]</th>                  <td>    0.0019</td> <td>    0.008</td> <td>    0.237</td> <td> 0.813</td> <td>   -0.014</td> <td>    0.017</td>\n",
       "</tr>\n",
       "<tr>\n",
       "  <th>C(urban_m)[3]</th>                  <td>   -0.0065</td> <td>    0.007</td> <td>   -0.897</td> <td> 0.370</td> <td>   -0.021</td> <td>    0.008</td>\n",
       "</tr>\n",
       "</table>"
      ],
      "text/latex": [
       "\\begin{center}\n",
       "\\begin{tabular}{ccccccc}\n",
       "\\toprule\n",
       "                 \\textbf{}                   & \\textbf{dy/dx} & \\textbf{std err} & \\textbf{z} & \\textbf{P$> |$z$|$} & \\textbf{[0.025} & \\textbf{0.975]}  \\\\\n",
       "\\midrule\n",
       "\\bottomrule\n",
       "\\end{tabular}\n",
       "\\begin{tabular}{lcccccc}\n",
       "\\textbf{sales\\_mil\\_log}                     &      -0.0266   &        0.008     &    -3.422  &         0.001        &       -0.042    &       -0.011     \\\\\n",
       "\\textbf{sales\\_mil\\_log\\_sq}                 &      -0.0005   &        0.001     &    -0.496  &         0.620        &       -0.002    &        0.001     \\\\\n",
       "\\textbf{total\\_assets\\_bs}                   &    9.459e-10   &     3.19e-09     &     0.297  &         0.767        &     -5.3e-09    &     7.19e-09     \\\\\n",
       "\\textbf{fixed\\_assets\\_bs}                   &      -0.0786   &        0.137     &    -0.573  &         0.566        &       -0.347    &        0.190     \\\\\n",
       "\\textbf{liq\\_assets\\_bs}                     &      -0.0144   &        0.011     &    -1.324  &         0.186        &       -0.036    &        0.007     \\\\\n",
       "\\textbf{curr\\_assets\\_bs}                    &       0.0232   &        0.137     &     0.169  &         0.865        &       -0.246    &        0.292     \\\\\n",
       "\\textbf{share\\_eq\\_bs}                       &      -0.0386   &        0.009     &    -4.265  &         0.000        &       -0.056    &       -0.021     \\\\\n",
       "\\textbf{subscribed\\_cap\\_bs}                 &       0.0106   &        0.013     &     0.844  &         0.399        &       -0.014    &        0.035     \\\\\n",
       "\\textbf{intang\\_assets\\_bs}                  &      -0.0186   &        0.146     &    -0.127  &         0.899        &       -0.305    &        0.268     \\\\\n",
       "\\textbf{extra\\_exp\\_pl}                      &       0.0318   &        0.180     &     0.176  &         0.860        &       -0.321    &        0.385     \\\\\n",
       "\\textbf{extra\\_inc\\_pl}                      &       0.2488   &        0.248     &     1.004  &         0.316        &       -0.237    &        0.735     \\\\\n",
       "\\textbf{extra\\_profit\\_loss\\_pl}             &      -0.1409   &        0.193     &    -0.731  &         0.465        &       -0.519    &        0.237     \\\\\n",
       "\\textbf{inc\\_bef\\_tax\\_pl}                   &      -0.0879   &        0.048     &    -1.816  &         0.069        &       -0.183    &        0.007     \\\\\n",
       "\\textbf{inventories\\_pl}                     &      -0.0795   &        0.019     &    -4.088  &         0.000        &       -0.118    &       -0.041     \\\\\n",
       "\\textbf{material\\_exp\\_pl}                   &      -0.0002   &        0.017     &    -0.012  &         0.991        &       -0.034    &        0.033     \\\\\n",
       "\\textbf{profit\\_loss\\_year\\_pl}              &       0.0701   &        0.048     &     1.463  &         0.144        &       -0.024    &        0.164     \\\\\n",
       "\\textbf{personnel\\_exp\\_pl}                  &      -0.0371   &        0.016     &    -2.355  &         0.019        &       -0.068    &       -0.006     \\\\\n",
       "\\textbf{d1\\_sales\\_mil\\_log\\_mod}            &      -0.0553   &        0.007     &    -8.091  &         0.000        &       -0.069    &       -0.042     \\\\\n",
       "\\textbf{d1\\_sales\\_mil\\_log\\_mod\\_sq}        &       0.0606   &        0.008     &     7.905  &         0.000        &        0.046    &        0.076     \\\\\n",
       "\\textbf{flag\\_low\\_d1\\_sales\\_mil\\_log}      &      -0.0644   &        0.019     &    -3.432  &         0.001        &       -0.101    &       -0.028     \\\\\n",
       "\\textbf{flag\\_high\\_d1\\_sales\\_mil\\_log}     &       0.0081   &        0.027     &     0.304  &         0.761        &       -0.044    &        0.060     \\\\\n",
       "\\textbf{extra\\_profit\\_loss\\_pl\\_quad}       &      -0.0170   &        0.146     &    -0.117  &         0.907        &       -0.303    &        0.269     \\\\\n",
       "\\textbf{inc\\_bef\\_tax\\_pl\\_quad}             &       0.0860   &        0.059     &     1.471  &         0.141        &       -0.029    &        0.201     \\\\\n",
       "\\textbf{profit\\_loss\\_year\\_pl\\_quad}        &       0.0255   &        0.063     &     0.408  &         0.684        &       -0.097    &        0.148     \\\\\n",
       "\\textbf{share\\_eq\\_bs\\_quad}                 &       0.0068   &        0.012     &     0.563  &         0.573        &       -0.017    &        0.031     \\\\\n",
       "\\textbf{extra\\_exp\\_pl\\_flag\\_high}          &      -0.1282   &        0.271     &    -0.473  &         0.636        &       -0.659    &        0.402     \\\\\n",
       "\\textbf{extra\\_inc\\_pl\\_flag\\_high}          &      -0.0072   &        0.302     &    -0.024  &         0.981        &       -0.598    &        0.584     \\\\\n",
       "\\textbf{inventories\\_pl\\_flag\\_high}         &       0.0616   &        0.023     &     2.700  &         0.007        &        0.017    &        0.106     \\\\\n",
       "\\textbf{material\\_exp\\_pl\\_flag\\_high}       &       0.0003   &        0.009     &     0.032  &         0.975        &       -0.017    &        0.017     \\\\\n",
       "\\textbf{personnel\\_exp\\_pl\\_flag\\_high}      &       0.0500   &        0.015     &     3.280  &         0.001        &        0.020    &        0.080     \\\\\n",
       "\\textbf{curr\\_liab\\_bs\\_flag\\_high}          &       0.0248   &        0.008     &     2.963  &         0.003        &        0.008    &        0.041     \\\\\n",
       "\\textbf{liq\\_assets\\_bs\\_flag\\_high}         &      -0.2030   &        0.180     &    -1.125  &         0.260        &       -0.556    &        0.150     \\\\\n",
       "\\textbf{subscribed\\_cap\\_bs\\_flag\\_high}     &       0.0157   &        0.011     &     1.405  &         0.160        &       -0.006    &        0.037     \\\\\n",
       "\\textbf{extra\\_exp\\_pl\\_flag\\_error}         &      -3.1876   &     1.39e+05     &  -2.3e-05  &         1.000        &    -2.72e+05    &     2.72e+05     \\\\\n",
       "\\textbf{extra\\_inc\\_pl\\_flag\\_error}         &     -20.0014   &     1.77e+33     & -1.13e-32  &         1.000        &    -3.47e+33    &     3.47e+33     \\\\\n",
       "\\textbf{inventories\\_pl\\_flag\\_error}        &       0.3002   &        0.165     &     1.823  &         0.068        &       -0.022    &        0.623     \\\\\n",
       "\\textbf{material\\_exp\\_pl\\_flag\\_error}      &      -3.8164   &     2.92e+05     & -1.31e-05  &         1.000        &    -5.72e+05    &     5.72e+05     \\\\\n",
       "\\textbf{personnel\\_exp\\_pl\\_flag\\_error}     &       0.2599   &        0.211     &     1.230  &         0.219        &       -0.154    &        0.674     \\\\\n",
       "\\textbf{curr\\_liab\\_bs\\_flag\\_error}         &       0.0542   &        0.113     &     0.481  &         0.631        &       -0.167    &        0.275     \\\\\n",
       "\\textbf{liq\\_assets\\_bs\\_flag\\_error}        &       0.1024   &        0.060     &     1.699  &         0.089        &       -0.016    &        0.221     \\\\\n",
       "\\textbf{subscribed\\_cap\\_bs\\_flag\\_error}    &       1.8039   &      274.303     &     0.007  &         0.995        &     -535.820    &      539.428     \\\\\n",
       "\\textbf{extra\\_profit\\_loss\\_pl\\_flag\\_low}  &      -2.1603   &      249.105     &    -0.009  &         0.993        &     -490.397    &      486.076     \\\\\n",
       "\\textbf{inc\\_bef\\_tax\\_pl\\_flag\\_low}        &      -0.0598   &        0.115     &    -0.518  &         0.604        &       -0.286    &        0.166     \\\\\n",
       "\\textbf{profit\\_loss\\_year\\_pl\\_flag\\_low}   &       0.0067   &        0.116     &     0.058  &         0.954        &       -0.221    &        0.234     \\\\\n",
       "\\textbf{share\\_eq\\_bs\\_flag\\_low}            &       0.0231   &        0.015     &     1.502  &         0.133        &       -0.007    &        0.053     \\\\\n",
       "\\textbf{extra\\_profit\\_loss\\_pl\\_flag\\_high} &       0.0019   &        0.329     &     0.006  &         0.995        &       -0.642    &        0.646     \\\\\n",
       "\\textbf{inc\\_bef\\_tax\\_pl\\_flag\\_high}       &       0.0446   &        0.087     &     0.512  &         0.609        &       -0.126    &        0.216     \\\\\n",
       "\\textbf{profit\\_loss\\_year\\_pl\\_flag\\_high}  &      -0.0749   &        0.094     &    -0.798  &         0.425        &       -0.259    &        0.109     \\\\\n",
       "\\textbf{share\\_eq\\_bs\\_flag\\_high}           &      -0.0225   &        0.031     &    -0.722  &         0.470        &       -0.084    &        0.039     \\\\\n",
       "\\textbf{extra\\_profit\\_loss\\_pl\\_flag\\_zero} &       0.0237   &        0.011     &     2.112  &         0.035        &        0.002    &        0.046     \\\\\n",
       "\\textbf{inc\\_bef\\_tax\\_pl\\_flag\\_zero}       &       0.1899   &        0.052     &     3.659  &         0.000        &        0.088    &        0.292     \\\\\n",
       "\\textbf{profit\\_loss\\_year\\_pl\\_flag\\_zero}  &      -0.0074   &        0.024     &    -0.313  &         0.755        &       -0.054    &        0.039     \\\\\n",
       "\\textbf{share\\_eq\\_bs\\_flag\\_zero}           &       0.2465   &        0.129     &     1.914  &         0.056        &       -0.006    &        0.499     \\\\\n",
       "\\textbf{female}                              &      -0.0136   &        0.006     &    -2.116  &         0.034        &       -0.026    &       -0.001     \\\\\n",
       "\\textbf{ceo\\_age}                            &      -0.0011   &        0.000     &    -3.627  &         0.000        &       -0.002    &       -0.000     \\\\\n",
       "\\textbf{flag\\_high\\_ceo\\_age}                &       0.0589   &        0.041     &     1.436  &         0.151        &       -0.021    &        0.139     \\\\\n",
       "\\textbf{flag\\_low\\_ceo\\_age}                 &       0.0028   &        0.022     &     0.130  &         0.896        &       -0.040    &        0.045     \\\\\n",
       "\\textbf{flag\\_miss\\_ceo\\_age}                &       0.0762   &        0.008     &     9.662  &         0.000        &        0.061    &        0.092     \\\\\n",
       "\\textbf{ceo\\_count}                          &      -0.0079   &        0.006     &    -1.420  &         0.155        &       -0.019    &        0.003     \\\\\n",
       "\\textbf{labor\\_avg\\_mod}                     &       0.0026   &        0.004     &     0.696  &         0.486        &       -0.005    &        0.010     \\\\\n",
       "\\textbf{flag\\_miss\\_labor\\_avg}              &      -0.0005   &        0.009     &    -0.058  &         0.954        &       -0.018    &        0.017     \\\\\n",
       "\\textbf{foreign\\_management}                 &      -0.0254   &        0.010     &    -2.420  &         0.016        &       -0.046    &       -0.005     \\\\\n",
       "\\textbf{balsheet\\_flag}                      &       0.0900   &        0.059     &     1.525  &         0.127        &       -0.026    &        0.206     \\\\\n",
       "\\textbf{balsheet\\_length}                    &    1.688e-05   &      9.3e-05     &     0.182  &         0.856        &       -0.000    &        0.000     \\\\\n",
       "\\textbf{balsheet\\_notfullyear}               &       0.0121   &        0.018     &     0.664  &         0.507        &       -0.024    &        0.048     \\\\\n",
       "\\textbf{age}                                 &      -0.0030   &        0.002     &    -1.526  &         0.127        &       -0.007    &        0.001     \\\\\n",
       "\\textbf{age2}                                &   -4.853e-06   &     8.86e-05     &    -0.055  &         0.956        &       -0.000    &        0.000     \\\\\n",
       "\\textbf{new}                                 &       0.0439   &        0.009     &     4.776  &         0.000        &        0.026    &        0.062     \\\\\n",
       "\\textbf{C(ind2\\_cat)[27]}                    &       0.0115   &        0.023     &     0.502  &         0.616        &       -0.034    &        0.057     \\\\\n",
       "\\textbf{C(ind2\\_cat)[28]}                    &       0.0029   &        0.018     &     0.158  &         0.874        &       -0.032    &        0.038     \\\\\n",
       "\\textbf{C(ind2\\_cat)[29]}                    &       0.0505   &        0.030     &     1.707  &         0.088        &       -0.007    &        0.108     \\\\\n",
       "\\textbf{C(ind2\\_cat)[30]}                    &      -0.0065   &        0.038     &    -0.170  &         0.865        &       -0.082    &        0.069     \\\\\n",
       "\\textbf{C(ind2\\_cat)[33]}                    &      -0.0173   &        0.018     &    -0.970  &         0.332        &       -0.052    &        0.018     \\\\\n",
       "\\textbf{C(ind2\\_cat)[55]}                    &       0.0201   &        0.017     &     1.164  &         0.244        &       -0.014    &        0.054     \\\\\n",
       "\\textbf{C(ind2\\_cat)[56]}                    &       0.0600   &        0.015     &     3.966  &         0.000        &        0.030    &        0.090     \\\\\n",
       "\\textbf{C(m\\_region\\_loc)[East]}             &       0.0080   &        0.007     &     1.126  &         0.260        &       -0.006    &        0.022     \\\\\n",
       "\\textbf{C(m\\_region\\_loc)[West]}             &      -0.0209   &        0.009     &    -2.406  &         0.016        &       -0.038    &       -0.004     \\\\\n",
       "\\textbf{C(urban\\_m)[2]}                      &       0.0019   &        0.008     &     0.237  &         0.813        &       -0.014    &        0.017     \\\\\n",
       "\\textbf{C(urban\\_m)[3]}                      &      -0.0065   &        0.007     &    -0.897  &         0.370        &       -0.021    &        0.008     \\\\\n",
       "\\bottomrule\n",
       "\\end{tabular}\n",
       "\\end{center}"
      ],
      "text/plain": [
       "<class 'statsmodels.iolib.table.SimpleTable'>"
      ]
     },
     "execution_count": 40,
     "metadata": {},
     "output_type": "execute_result"
    }
   ],
   "source": [
    "t"
   ]
  },
  {
   "cell_type": "code",
   "execution_count": 41,
   "metadata": {},
   "outputs": [],
   "source": [
    "columns = pd.DataFrame(t.data).iloc[0].tolist()"
   ]
  },
  {
   "cell_type": "code",
   "execution_count": 42,
   "metadata": {},
   "outputs": [
    {
     "data": {
      "text/html": [
       "<div>\n",
       "<style scoped>\n",
       "    .dataframe tbody tr th:only-of-type {\n",
       "        vertical-align: middle;\n",
       "    }\n",
       "\n",
       "    .dataframe tbody tr th {\n",
       "        vertical-align: top;\n",
       "    }\n",
       "\n",
       "    .dataframe thead th {\n",
       "        text-align: right;\n",
       "    }\n",
       "</style>\n",
       "<table border=\"1\" class=\"dataframe\">\n",
       "  <thead>\n",
       "    <tr style=\"text-align: right;\">\n",
       "      <th></th>\n",
       "      <th></th>\n",
       "      <th>dy/dx</th>\n",
       "      <th>std err</th>\n",
       "      <th>z</th>\n",
       "      <th>P&gt;|z|</th>\n",
       "      <th>[0.025</th>\n",
       "      <th>0.975]</th>\n",
       "    </tr>\n",
       "  </thead>\n",
       "  <tbody>\n",
       "    <tr>\n",
       "      <th>0</th>\n",
       "      <td>inc_bef_tax_pl_flag_zero</td>\n",
       "      <td>0.1899</td>\n",
       "      <td>0.052</td>\n",
       "      <td>3.659</td>\n",
       "      <td>0.000</td>\n",
       "      <td>0.088</td>\n",
       "      <td>0.292</td>\n",
       "    </tr>\n",
       "    <tr>\n",
       "      <th>1</th>\n",
       "      <td>flag_miss_ceo_age</td>\n",
       "      <td>0.0762</td>\n",
       "      <td>0.008</td>\n",
       "      <td>9.662</td>\n",
       "      <td>0.000</td>\n",
       "      <td>0.061</td>\n",
       "      <td>0.092</td>\n",
       "    </tr>\n",
       "    <tr>\n",
       "      <th>2</th>\n",
       "      <td>inventories_pl_flag_high</td>\n",
       "      <td>0.0616</td>\n",
       "      <td>0.023</td>\n",
       "      <td>2.700</td>\n",
       "      <td>0.007</td>\n",
       "      <td>0.017</td>\n",
       "      <td>0.106</td>\n",
       "    </tr>\n",
       "    <tr>\n",
       "      <th>3</th>\n",
       "      <td>d1_sales_mil_log_mod_sq</td>\n",
       "      <td>0.0606</td>\n",
       "      <td>0.008</td>\n",
       "      <td>7.905</td>\n",
       "      <td>0.000</td>\n",
       "      <td>0.046</td>\n",
       "      <td>0.076</td>\n",
       "    </tr>\n",
       "    <tr>\n",
       "      <th>4</th>\n",
       "      <td>C(ind2_cat)[56]</td>\n",
       "      <td>0.0600</td>\n",
       "      <td>0.015</td>\n",
       "      <td>3.966</td>\n",
       "      <td>0.000</td>\n",
       "      <td>0.030</td>\n",
       "      <td>0.090</td>\n",
       "    </tr>\n",
       "    <tr>\n",
       "      <th>5</th>\n",
       "      <td>personnel_exp_pl_flag_high</td>\n",
       "      <td>0.0500</td>\n",
       "      <td>0.015</td>\n",
       "      <td>3.280</td>\n",
       "      <td>0.001</td>\n",
       "      <td>0.020</td>\n",
       "      <td>0.080</td>\n",
       "    </tr>\n",
       "    <tr>\n",
       "      <th>6</th>\n",
       "      <td>new</td>\n",
       "      <td>0.0439</td>\n",
       "      <td>0.009</td>\n",
       "      <td>4.776</td>\n",
       "      <td>0.000</td>\n",
       "      <td>0.026</td>\n",
       "      <td>0.062</td>\n",
       "    </tr>\n",
       "    <tr>\n",
       "      <th>7</th>\n",
       "      <td>curr_liab_bs_flag_high</td>\n",
       "      <td>0.0248</td>\n",
       "      <td>0.008</td>\n",
       "      <td>2.963</td>\n",
       "      <td>0.003</td>\n",
       "      <td>0.008</td>\n",
       "      <td>0.041</td>\n",
       "    </tr>\n",
       "    <tr>\n",
       "      <th>8</th>\n",
       "      <td>extra_profit_loss_pl_flag_zero</td>\n",
       "      <td>0.0237</td>\n",
       "      <td>0.011</td>\n",
       "      <td>2.112</td>\n",
       "      <td>0.035</td>\n",
       "      <td>0.002</td>\n",
       "      <td>0.046</td>\n",
       "    </tr>\n",
       "    <tr>\n",
       "      <th>9</th>\n",
       "      <td>ceo_age</td>\n",
       "      <td>-0.0011</td>\n",
       "      <td>0.000</td>\n",
       "      <td>-3.627</td>\n",
       "      <td>0.000</td>\n",
       "      <td>-0.002</td>\n",
       "      <td>-0.000</td>\n",
       "    </tr>\n",
       "    <tr>\n",
       "      <th>10</th>\n",
       "      <td>female</td>\n",
       "      <td>-0.0136</td>\n",
       "      <td>0.006</td>\n",
       "      <td>-2.116</td>\n",
       "      <td>0.034</td>\n",
       "      <td>-0.026</td>\n",
       "      <td>-0.001</td>\n",
       "    </tr>\n",
       "    <tr>\n",
       "      <th>11</th>\n",
       "      <td>C(m_region_loc)[West]</td>\n",
       "      <td>-0.0209</td>\n",
       "      <td>0.009</td>\n",
       "      <td>-2.406</td>\n",
       "      <td>0.016</td>\n",
       "      <td>-0.038</td>\n",
       "      <td>-0.004</td>\n",
       "    </tr>\n",
       "    <tr>\n",
       "      <th>12</th>\n",
       "      <td>foreign_management</td>\n",
       "      <td>-0.0254</td>\n",
       "      <td>0.010</td>\n",
       "      <td>-2.420</td>\n",
       "      <td>0.016</td>\n",
       "      <td>-0.046</td>\n",
       "      <td>-0.005</td>\n",
       "    </tr>\n",
       "    <tr>\n",
       "      <th>13</th>\n",
       "      <td>sales_mil_log</td>\n",
       "      <td>-0.0266</td>\n",
       "      <td>0.008</td>\n",
       "      <td>-3.422</td>\n",
       "      <td>0.001</td>\n",
       "      <td>-0.042</td>\n",
       "      <td>-0.011</td>\n",
       "    </tr>\n",
       "    <tr>\n",
       "      <th>14</th>\n",
       "      <td>personnel_exp_pl</td>\n",
       "      <td>-0.0371</td>\n",
       "      <td>0.016</td>\n",
       "      <td>-2.355</td>\n",
       "      <td>0.019</td>\n",
       "      <td>-0.068</td>\n",
       "      <td>-0.006</td>\n",
       "    </tr>\n",
       "    <tr>\n",
       "      <th>15</th>\n",
       "      <td>share_eq_bs</td>\n",
       "      <td>-0.0386</td>\n",
       "      <td>0.009</td>\n",
       "      <td>-4.265</td>\n",
       "      <td>0.000</td>\n",
       "      <td>-0.056</td>\n",
       "      <td>-0.021</td>\n",
       "    </tr>\n",
       "    <tr>\n",
       "      <th>16</th>\n",
       "      <td>d1_sales_mil_log_mod</td>\n",
       "      <td>-0.0553</td>\n",
       "      <td>0.007</td>\n",
       "      <td>-8.091</td>\n",
       "      <td>0.000</td>\n",
       "      <td>-0.069</td>\n",
       "      <td>-0.042</td>\n",
       "    </tr>\n",
       "    <tr>\n",
       "      <th>17</th>\n",
       "      <td>flag_low_d1_sales_mil_log</td>\n",
       "      <td>-0.0644</td>\n",
       "      <td>0.019</td>\n",
       "      <td>-3.432</td>\n",
       "      <td>0.001</td>\n",
       "      <td>-0.101</td>\n",
       "      <td>-0.028</td>\n",
       "    </tr>\n",
       "    <tr>\n",
       "      <th>18</th>\n",
       "      <td>inventories_pl</td>\n",
       "      <td>-0.0795</td>\n",
       "      <td>0.019</td>\n",
       "      <td>-4.088</td>\n",
       "      <td>0.000</td>\n",
       "      <td>-0.118</td>\n",
       "      <td>-0.041</td>\n",
       "    </tr>\n",
       "  </tbody>\n",
       "</table>\n",
       "</div>"
      ],
      "text/plain": [
       "                                     dy/dx    std err          z  P>|z|  \\\n",
       "0         inc_bef_tax_pl_flag_zero  0.1899      0.052      3.659  0.000   \n",
       "1                flag_miss_ceo_age  0.0762      0.008      9.662  0.000   \n",
       "2         inventories_pl_flag_high  0.0616      0.023      2.700  0.007   \n",
       "3          d1_sales_mil_log_mod_sq  0.0606      0.008      7.905  0.000   \n",
       "4                  C(ind2_cat)[56]  0.0600      0.015      3.966  0.000   \n",
       "5       personnel_exp_pl_flag_high  0.0500      0.015      3.280  0.001   \n",
       "6                              new  0.0439      0.009      4.776  0.000   \n",
       "7           curr_liab_bs_flag_high  0.0248      0.008      2.963  0.003   \n",
       "8   extra_profit_loss_pl_flag_zero  0.0237      0.011      2.112  0.035   \n",
       "9                          ceo_age -0.0011      0.000     -3.627  0.000   \n",
       "10                          female -0.0136      0.006     -2.116  0.034   \n",
       "11           C(m_region_loc)[West] -0.0209      0.009     -2.406  0.016   \n",
       "12              foreign_management -0.0254      0.010     -2.420  0.016   \n",
       "13                   sales_mil_log -0.0266      0.008     -3.422  0.001   \n",
       "14                personnel_exp_pl -0.0371      0.016     -2.355  0.019   \n",
       "15                     share_eq_bs -0.0386      0.009     -4.265  0.000   \n",
       "16            d1_sales_mil_log_mod -0.0553      0.007     -8.091  0.000   \n",
       "17       flag_low_d1_sales_mil_log -0.0644      0.019     -3.432  0.001   \n",
       "18                  inventories_pl -0.0795      0.019     -4.088  0.000   \n",
       "\n",
       "       [0.025     0.975]  \n",
       "0       0.088      0.292  \n",
       "1       0.061      0.092  \n",
       "2       0.017      0.106  \n",
       "3       0.046      0.076  \n",
       "4       0.030      0.090  \n",
       "5       0.020      0.080  \n",
       "6       0.026      0.062  \n",
       "7       0.008      0.041  \n",
       "8       0.002      0.046  \n",
       "9      -0.002     -0.000  \n",
       "10     -0.026     -0.001  \n",
       "11     -0.038     -0.004  \n",
       "12     -0.046     -0.005  \n",
       "13     -0.042     -0.011  \n",
       "14     -0.068     -0.006  \n",
       "15     -0.056     -0.021  \n",
       "16     -0.069     -0.042  \n",
       "17     -0.101     -0.028  \n",
       "18     -0.118     -0.041  "
      ]
     },
     "execution_count": 42,
     "metadata": {},
     "output_type": "execute_result"
    }
   ],
   "source": [
    "df_marginal_effects = pd.DataFrame(t.data, columns = columns).iloc[1:].astype(\n",
    "    {'dy/dx': float, 'P>|z|': float})\n",
    "df_marginal_effects[df_marginal_effects['P>|z|'] <= 0.05].sort_values(by = 'dy/dx', ascending = False).reset_index(drop = True)"
   ]
  },
  {
   "cell_type": "markdown",
   "metadata": {},
   "source": [
    "### Split data into train and holdout"
   ]
  },
  {
   "cell_type": "code",
   "execution_count": 43,
   "metadata": {},
   "outputs": [],
   "source": [
    "index_train, index_holdout= train_test_split(\n",
    "    data.index.values, train_size=round(0.8*len(data.index)), random_state=42)\n",
    "\n",
    "y_train = y.iloc[index_train]\n",
    "y_holdout = y.iloc[index_holdout]"
   ]
  },
  {
   "cell_type": "code",
   "execution_count": 44,
   "metadata": {},
   "outputs": [
    {
     "name": "stdout",
     "output_type": "stream",
     "text": [
      "Total\n",
      "0    0.797857\n",
      "1    0.202143\n",
      "Name: default, dtype: float64\n",
      "Train\n",
      "0    0.799199\n",
      "1    0.200801\n",
      "Name: default, dtype: float64\n",
      "Holdout\n",
      "0    0.792488\n",
      "1    0.207512\n",
      "Name: default, dtype: float64\n"
     ]
    }
   ],
   "source": [
    "print('Total')\n",
    "print(data['default'].value_counts(normalize=True))\n",
    "print('Train')\n",
    "print(data.iloc[index_train]['default'].value_counts(normalize=True))\n",
    "print('Holdout')\n",
    "print(data.iloc[index_holdout]['default'].value_counts(normalize=True))"
   ]
  },
  {
   "cell_type": "markdown",
   "metadata": {},
   "source": [
    "### Predictions using cross-validations"
   ]
  },
  {
   "cell_type": "markdown",
   "metadata": {},
   "source": [
    "####  <font color = ' blue'> A digression into optimization algorithms </font>\n",
    "\n",
    "\n",
    "    \n",
    "Our task is to find the best parameters that give us the least error in predicting the output. We call the function that calculates this error a **cost function**  or a **loss function**, and our goal is to minimize the error in order to get the best-predicted output. This cost function is usally **quadratic**, either globally with one optimum (simple case) or locally with multiple local optima and one global optima somewhere along the sets of parameters.\n",
    "- *newton-cg*: It uses a quadratic function minimalization and finds global optimum swiftly. Drawbacks: computationally expensive and stops at the first saddle point.\n",
    "- *newton-cholesky*: It uses a newton-cg algorithm with a Cholesky decomposition of the Hessian matrix. This solver is more efficient than \"newton-cg\" for large datasets, as it requires less memory and computational resources. However, it may not converge for some datasets.\n",
    "- *liblinear*: It is a linear classification that supports logistic regression and linear support vector machine. It applies automatic parameter selection (a.k.a L1 Regularization) and it’s recommended when you have high dimension dataset (recommended for solving large-scale classification problems).\n",
    "- *lbfgs*: It is a simplified newton-cg which performs better on a limited dataset. It, however, may not converge to anything. \n",
    "‘newton-cholesky’, \n",
    "- *sag* (stochastic average descent): It optimizes the sum of a finite number of smooth convex functions. Like stochastic gradient (SG) methods, the SAG method's iteration cost is independent of the number of terms in the sum. However, by incorporating a memory of previous gradient values, the SAG method achieves a faster convergence rate than black-box SG methods. Drawbacks: it only supports L2 regularization and it is less practical for large dataset for its memory consumption. \n",
    "- *saga* (stochastic average descent): A sag-alternative which supports L2 regularization.\n",
    "\n",
    "More [here](https://stackoverflow.com/questions/38640109/logistic-regression-python-solvers-definitions)\n",
    "\n",
    "Supported penalties by solver:\n",
    "\n",
    "- *lbfgs*: L2\n",
    "- *liblinear*: L1, L2\n",
    "- *newton-cg*: L2\n",
    "- *newton-cholesky*: L2\n",
    "- *sag*: L2\n",
    "- *saga*: elasticnet, L1, L2]"
   ]
  },
  {
   "cell_type": "markdown",
   "metadata": {},
   "source": [
    "#### specify cross-validation method"
   ]
  },
  {
   "cell_type": "code",
   "execution_count": 45,
   "metadata": {},
   "outputs": [],
   "source": [
    "k = KFold(n_splits = 5, shuffle = True, random_state = 20240205)"
   ]
  },
  {
   "cell_type": "markdown",
   "metadata": {},
   "source": [
    "#### Logistic regression"
   ]
  },
  {
   "cell_type": "code",
   "execution_count": 46,
   "metadata": {},
   "outputs": [],
   "source": [
    "# no regularisation needed so setting the paremeter to very high value\n",
    "Cs_value_logit = [1e20]"
   ]
  },
  {
   "cell_type": "markdown",
   "metadata": {},
   "source": [
    "We are using `LogisticRegressionCV`, a logistic regression with built-in cross-validation.\n",
    "\n",
    "Note: Each of the values in Cs describes the inverse of regularization strength. If Cs is as an int, then a grid of Cs values are chosen in a logarithmic scale between 1e-4 and 1e4. Like in support vector machines, *smaller values specify stronger regularization*."
   ]
  },
  {
   "cell_type": "code",
   "execution_count": 47,
   "metadata": {},
   "outputs": [],
   "source": [
    "logit_model_vars = [X1.iloc[index_train], X2.iloc[index_train], X3.iloc[index_train], X4.iloc[index_train], X5.iloc[index_train]]\n",
    "\n",
    "logit_models = dict()\n",
    "CV_RMSE_folds = dict()"
   ]
  },
  {
   "cell_type": "code",
   "execution_count": 48,
   "metadata": {},
   "outputs": [
    {
     "name": "stdout",
     "output_type": "stream",
     "text": [
      "CPU times: total: 48 s\n",
      "Wall time: 48.9 s\n"
     ]
    }
   ],
   "source": [
    "%%time\n",
    "for i in range(len(logit_model_vars)):\n",
    "    LRCV_brier = LogisticRegressionCV(\n",
    "        Cs=Cs_value_logit, \n",
    "        cv=k, # simply the number of folds\n",
    "        refit=True, \n",
    "        scoring='neg_brier_score', \n",
    "        solver=\"newton-cg\", \n",
    "        tol=1e-7, \n",
    "        random_state=20240205)\n",
    "    logit_models['X'+str(i+1)] = LRCV_brier.fit(logit_model_vars[i], y_train)\n",
    "    \n",
    "    # Calculate RMSE on test for each fold\n",
    "    CV_RMSE_folds['X'+str(i+1)] = np.sqrt(-1*(logit_models['X'+str(i+1)].scores_[1])).flatten()"
   ]
  },
  {
   "cell_type": "code",
   "execution_count": 49,
   "metadata": {},
   "outputs": [
    {
     "data": {
      "text/html": [
       "<div>\n",
       "<style scoped>\n",
       "    .dataframe tbody tr th:only-of-type {\n",
       "        vertical-align: middle;\n",
       "    }\n",
       "\n",
       "    .dataframe tbody tr th {\n",
       "        vertical-align: top;\n",
       "    }\n",
       "\n",
       "    .dataframe thead th {\n",
       "        text-align: right;\n",
       "    }\n",
       "</style>\n",
       "<table border=\"1\" class=\"dataframe\">\n",
       "  <thead>\n",
       "    <tr style=\"text-align: right;\">\n",
       "      <th></th>\n",
       "      <th>X1</th>\n",
       "      <th>X2</th>\n",
       "      <th>X3</th>\n",
       "      <th>X4</th>\n",
       "      <th>X5</th>\n",
       "    </tr>\n",
       "  </thead>\n",
       "  <tbody>\n",
       "    <tr>\n",
       "      <th>0</th>\n",
       "      <td>0.371418</td>\n",
       "      <td>0.362996</td>\n",
       "      <td>0.360556</td>\n",
       "      <td>0.358868</td>\n",
       "      <td>0.359202</td>\n",
       "    </tr>\n",
       "    <tr>\n",
       "      <th>1</th>\n",
       "      <td>0.375496</td>\n",
       "      <td>0.367475</td>\n",
       "      <td>0.366528</td>\n",
       "      <td>0.363003</td>\n",
       "      <td>0.362984</td>\n",
       "    </tr>\n",
       "    <tr>\n",
       "      <th>2</th>\n",
       "      <td>0.373705</td>\n",
       "      <td>0.364482</td>\n",
       "      <td>0.363162</td>\n",
       "      <td>0.360479</td>\n",
       "      <td>0.360959</td>\n",
       "    </tr>\n",
       "    <tr>\n",
       "      <th>3</th>\n",
       "      <td>0.382958</td>\n",
       "      <td>0.374649</td>\n",
       "      <td>0.373463</td>\n",
       "      <td>0.370967</td>\n",
       "      <td>0.370079</td>\n",
       "    </tr>\n",
       "    <tr>\n",
       "      <th>4</th>\n",
       "      <td>0.367619</td>\n",
       "      <td>0.359654</td>\n",
       "      <td>0.359068</td>\n",
       "      <td>0.357300</td>\n",
       "      <td>0.356082</td>\n",
       "    </tr>\n",
       "  </tbody>\n",
       "</table>\n",
       "</div>"
      ],
      "text/plain": [
       "         X1        X2        X3        X4        X5\n",
       "0  0.371418  0.362996  0.360556  0.358868  0.359202\n",
       "1  0.375496  0.367475  0.366528  0.363003  0.362984\n",
       "2  0.373705  0.364482  0.363162  0.360479  0.360959\n",
       "3  0.382958  0.374649  0.373463  0.370967  0.370079\n",
       "4  0.367619  0.359654  0.359068  0.357300  0.356082"
      ]
     },
     "execution_count": 49,
     "metadata": {},
     "output_type": "execute_result"
    }
   ],
   "source": [
    "pd.DataFrame(CV_RMSE_folds)"
   ]
  },
  {
   "cell_type": "markdown",
   "metadata": {},
   "source": [
    "#### Lasso logit"
   ]
  },
  {
   "cell_type": "code",
   "execution_count": 50,
   "metadata": {},
   "outputs": [],
   "source": [
    "normalized_logitvars = pd.DataFrame(StandardScaler().fit_transform(logitvars.iloc[index_train]))\n",
    "normalized_logitvars.columns = logitvars.columns"
   ]
  },
  {
   "cell_type": "code",
   "execution_count": 51,
   "metadata": {},
   "outputs": [],
   "source": [
    "lambdas=list(10**np.arange(-1,-4.01, -1/3))\n",
    "n_obs = normalized_logitvars.shape[0]*4/5\n",
    "Cs_values = [1/(l*n_obs) for l in lambdas]"
   ]
  },
  {
   "cell_type": "code",
   "execution_count": 52,
   "metadata": {},
   "outputs": [
    {
     "data": {
      "text/plain": [
       "[0.0008208024164423139,\n",
       " 0.0017683651996453177,\n",
       " 0.003809827330761029,\n",
       " 0.008208024164423134,\n",
       " 0.017683651996453165,\n",
       " 0.03809827330761025,\n",
       " 0.0820802416442313,\n",
       " 0.17683651996453165,\n",
       " 0.38098273307610253,\n",
       " 0.8208024164423123]"
      ]
     },
     "execution_count": 52,
     "metadata": {},
     "output_type": "execute_result"
    }
   ],
   "source": [
    "Cs_values"
   ]
  },
  {
   "cell_type": "markdown",
   "metadata": {},
   "source": [
    "Training for ***accuracy***"
   ]
  },
  {
   "cell_type": "code",
   "execution_count": 53,
   "metadata": {},
   "outputs": [],
   "source": [
    "logLasso = LogisticRegressionCV(\n",
    "    Cs = Cs_values, \n",
    "    penalty = 'l1', # L1 makes it lasso\n",
    "    cv = k, \n",
    "    refit = True, \n",
    "    scoring = 'accuracy', \n",
    "    solver = 'liblinear',\n",
    "    random_state = 20240205)"
   ]
  },
  {
   "cell_type": "code",
   "execution_count": 54,
   "metadata": {},
   "outputs": [
    {
     "name": "stdout",
     "output_type": "stream",
     "text": [
      "CPU times: total: 34 s\n",
      "Wall time: 35.2 s\n"
     ]
    }
   ],
   "source": [
    "%%time\n",
    "logit_models[\"LASSO\"] = logLasso.fit(normalized_logitvars, y_train)"
   ]
  },
  {
   "cell_type": "code",
   "execution_count": null,
   "metadata": {},
   "outputs": [],
   "source": [
    "cv_summary_lasso = cv_summary(lambdas, Cs_values, logit_models[\"LASSO\"])\n",
    "cv_summary_lasso"
   ]
  },
  {
   "cell_type": "code",
   "execution_count": null,
   "metadata": {},
   "outputs": [],
   "source": [
    "best_lambda = cv_summary_lasso.sort_values('mean_cv_score', ascending = False).iloc[0,0]\n",
    "best_lambda"
   ]
  },
  {
   "cell_type": "code",
   "execution_count": null,
   "metadata": {},
   "outputs": [],
   "source": [
    "create_coef_matrix(normalized_logitvars, logit_models[\"LASSO\"])"
   ]
  },
  {
   "cell_type": "markdown",
   "metadata": {},
   "source": [
    "Training for ***Brier-score*** (aka RMSE)"
   ]
  },
  {
   "cell_type": "code",
   "execution_count": null,
   "metadata": {},
   "outputs": [],
   "source": [
    "#refit with negative brier score so we have RMSE values for the same cv split\n",
    "\n",
    "logLasso_brier = LogisticRegressionCV(\n",
    "    Cs = Cs_values, \n",
    "    penalty = 'l1', \n",
    "    cv = k, \n",
    "    refit = True, \n",
    "    scoring = 'neg_brier_score', \n",
    "    solver = \"liblinear\", \n",
    "    random_state = 20240205)\n",
    "logLasso_brier_fitted = logLasso_brier.fit(normalized_logitvars, y_train)"
   ]
  },
  {
   "cell_type": "code",
   "execution_count": null,
   "metadata": {},
   "outputs": [],
   "source": [
    "for i, l in enumerate(lambdas):\n",
    "    if l == best_lambda:\n",
    "        best_lambda_i = i\n",
    "        CV_RMSE_folds['LASSO'] = np.sqrt(-1*(logLasso_brier_fitted.scores_[1][:,i])).tolist()"
   ]
  },
  {
   "cell_type": "code",
   "execution_count": null,
   "metadata": {},
   "outputs": [],
   "source": [
    "pd.DataFrame(CV_RMSE_folds)"
   ]
  },
  {
   "cell_type": "markdown",
   "metadata": {},
   "source": [
    "### AUC using no loss fn"
   ]
  },
  {
   "cell_type": "markdown",
   "metadata": {},
   "source": [
    "**Calculate AUC for each folds**"
   ]
  },
  {
   "cell_type": "code",
   "execution_count": null,
   "metadata": {},
   "outputs": [],
   "source": [
    "CV_AUC_folds = dict()"
   ]
  },
  {
   "cell_type": "markdown",
   "metadata": {},
   "source": [
    "**refit logit models with AUC so we have AUC values for the same cv split**"
   ]
  },
  {
   "cell_type": "markdown",
   "metadata": {},
   "source": [
    "Training for ***AUC***"
   ]
  },
  {
   "cell_type": "code",
   "execution_count": null,
   "metadata": {},
   "outputs": [],
   "source": [
    "for i in range(len(logit_model_vars)):\n",
    "    LRCV_auc = LogisticRegressionCV(\n",
    "        Cs=Cs_value_logit, \n",
    "        cv=k, \n",
    "        refit=True, \n",
    "        scoring='roc_auc', \n",
    "        solver=\"newton-cg\", \n",
    "        tol=1e-7, \n",
    "        random_state = 20240205)\n",
    "    LRCV_auc_fit = LRCV_auc.fit(logit_model_vars[i], y_train)\n",
    "    # Calculate AUC on test for each fold\n",
    "    CV_AUC_folds['X'+str(i+1)] = LRCV_auc_fit.scores_[1][:,0].tolist()"
   ]
  },
  {
   "cell_type": "code",
   "execution_count": null,
   "metadata": {},
   "outputs": [],
   "source": [
    "pd.DataFrame(CV_AUC_folds)"
   ]
  },
  {
   "cell_type": "code",
   "execution_count": null,
   "metadata": {},
   "outputs": [],
   "source": [
    "%%time\n",
    "#refit with AUC so we have AUC values for the same cv split\n",
    "\n",
    "logLasso_auc = LogisticRegressionCV(\n",
    "    Cs=Cs_values, \n",
    "    penalty='l1', \n",
    "    cv=k, \n",
    "    refit=True, scoring='roc_auc', \n",
    "    solver=\"liblinear\", \n",
    "    random_state = 20240205)\n",
    "logLasso_auc_fitted = logLasso_auc.fit(normalized_logitvars, y_train)\n",
    "CV_AUC_folds['LASSO'] = logLasso_auc_fitted.scores_[1][:,best_lambda_i].tolist()"
   ]
  },
  {
   "cell_type": "code",
   "execution_count": null,
   "metadata": {},
   "outputs": [],
   "source": [
    "pd.DataFrame(CV_AUC_folds)"
   ]
  },
  {
   "cell_type": "markdown",
   "metadata": {},
   "source": [
    "**For each model: average RMSE and average AUC for models**"
   ]
  },
  {
   "cell_type": "code",
   "execution_count": null,
   "metadata": {},
   "outputs": [],
   "source": [
    "CV_RMSE = dict()\n",
    "CV_AUC = dict()\n",
    "nvars = dict()"
   ]
  },
  {
   "cell_type": "code",
   "execution_count": null,
   "metadata": {},
   "outputs": [],
   "source": [
    "for key in logit_models:\n",
    "    CV_RMSE[key] = np.mean(CV_RMSE_folds[key])\n",
    "    CV_AUC[key] = np.mean(CV_AUC_folds[key])  "
   ]
  },
  {
   "cell_type": "code",
   "execution_count": null,
   "metadata": {},
   "outputs": [],
   "source": [
    "CV_AUC"
   ]
  },
  {
   "cell_type": "code",
   "execution_count": null,
   "metadata": {},
   "outputs": [],
   "source": [
    "for key in logit_models:\n",
    "    if key != 'LASSO':\n",
    "        nvars[key] = logit_models[key].n_features_in_\n",
    "    else:\n",
    "        nvars[key] = sum(x != 0 for x in logit_models[key].coef_[0].tolist())"
   ]
  },
  {
   "cell_type": "code",
   "execution_count": null,
   "metadata": {},
   "outputs": [],
   "source": [
    "logLasso.coef_"
   ]
  },
  {
   "cell_type": "code",
   "execution_count": null,
   "metadata": {},
   "outputs": [],
   "source": [
    "nvars"
   ]
  },
  {
   "cell_type": "markdown",
   "metadata": {},
   "source": [
    "<br>\n",
    "\n",
    "We have 6 models, (5 logit and the logit lasso). For each we have a 5-CV RMSE and AUC.\n",
    "We pick our preferred model based on that."
   ]
  },
  {
   "cell_type": "code",
   "execution_count": null,
   "metadata": {},
   "outputs": [],
   "source": [
    "logit_summary1 = np.transpose(pd.DataFrame.from_dict([nvars,CV_RMSE,CV_AUC], orient='columns'))\n",
    "logit_summary1.columns = ['Number of predictors', 'CV RMSE', 'CV AUC']"
   ]
  },
  {
   "cell_type": "code",
   "execution_count": null,
   "metadata": {},
   "outputs": [],
   "source": [
    "logit_summary1"
   ]
  },
  {
   "cell_type": "markdown",
   "metadata": {},
   "source": [
    "Take best model and estimate RMSE on holdout\n",
    "X4, X5 and LASSO are practically the same - go with the simplest model "
   ]
  },
  {
   "cell_type": "code",
   "execution_count": null,
   "metadata": {},
   "outputs": [],
   "source": [
    "best_model = logit_models['X4']\n",
    "best_model_X_holdout = X4.iloc[index_holdout]\n",
    "\n",
    "logit_predicted_probabilities_holdout = best_model.predict_proba(best_model_X_holdout)[:,1]\n",
    "best_rmse_holdout = np.sqrt(metrics.mean_squared_error(y_holdout, logit_predicted_probabilities_holdout))\n",
    "round(best_rmse_holdout, 3)"
   ]
  },
  {
   "cell_type": "code",
   "execution_count": null,
   "metadata": {},
   "outputs": [],
   "source": [
    "logit_predicted_probabilities_holdout"
   ]
  },
  {
   "cell_type": "markdown",
   "metadata": {},
   "source": [
    "**Discrete ROC (with thresholds in steps) on holdout**"
   ]
  },
  {
   "cell_type": "code",
   "execution_count": null,
   "metadata": {},
   "outputs": [],
   "source": [
    "thresholds = [i/100 for i in range(5,80,5)]\n",
    "cm = dict()\n",
    "true_positive_rates = []\n",
    "false_positive_rates = []\n",
    "holdout_prediction = []\n",
    "for thr in thresholds:\n",
    "    holdout_prediction = np.where(logit_predicted_probabilities_holdout < thr, 0, 1)\n",
    "    cm_thr = confusion_matrix(y_holdout, holdout_prediction, labels=[0,1])\n",
    "    cm[thr] = cm_thr\n",
    "    tn, fp, fn, tp = cm_thr.ravel()\n",
    "    true_positive_rates.append(tp/(tp+fn))\n",
    "    false_positive_rates.append(fp/(fp+tn))"
   ]
  },
  {
   "cell_type": "code",
   "execution_count": null,
   "metadata": {},
   "outputs": [],
   "source": [
    "holdout_prediction"
   ]
  },
  {
   "cell_type": "code",
   "execution_count": null,
   "metadata": {},
   "outputs": [],
   "source": [
    "cm_thr"
   ]
  },
  {
   "cell_type": "code",
   "execution_count": null,
   "metadata": {},
   "outputs": [],
   "source": [
    "cm_thr.ravel()"
   ]
  },
  {
   "cell_type": "code",
   "execution_count": null,
   "metadata": {},
   "outputs": [],
   "source": [
    "tpr_fpr_for_thresholds = pd.DataFrame(\n",
    "    {'thresholds': thresholds,\n",
    "     'true_positive_rates': true_positive_rates,\n",
    "     'false_positive_rates': false_positive_rates})"
   ]
  },
  {
   "cell_type": "code",
   "execution_count": null,
   "metadata": {},
   "outputs": [],
   "source": [
    "tpr_fpr_for_thresholds"
   ]
  },
  {
   "cell_type": "code",
   "execution_count": null,
   "metadata": {},
   "outputs": [],
   "source": [
    "ggplot(tpr_fpr_for_thresholds, aes(x = 'false_positive_rates', y = 'true_positive_rates', color='thresholds'))\\\n",
    "        + labs(\n",
    "            x = \"False positive rate (1 - Specificity)\", \n",
    "            y = \"True positive rate (Sensitivity)\",\n",
    "            title = 'ROC curve for the best model (X4)'\n",
    "        )\\\n",
    "        + geom_point(size=2, alpha=0.8) + scale_color_continuous(trans = 'reverse')\\\n",
    "        + scale_x_continuous(limits=(0,1), breaks = seq(0, 1.01, by = 0.1))\\\n",
    "        + scale_y_continuous(limits=(0,1), breaks = seq(0, 1.01, by = 0.1))\\\n",
    "        + theme_bw()\\\n",
    "        +theme(legend_position=\"right\",\n",
    "            axis_text=element_text(size=10),\n",
    "            axis_title=element_text(size=10),\n",
    "            legend_text = element_text(size = 6),\n",
    "            legend_title = element_text(size = 6),\n",
    "            legend_key_size=6)"
   ]
  },
  {
   "cell_type": "code",
   "execution_count": null,
   "metadata": {},
   "outputs": [],
   "source": [
    "%matplotlib inline"
   ]
  },
  {
   "cell_type": "code",
   "execution_count": null,
   "metadata": {},
   "outputs": [],
   "source": [
    "ax = sns.scatterplot(\n",
    "    data = tpr_fpr_for_thresholds,\n",
    "    x = 'false_positive_rates', \n",
    "    y = 'true_positive_rates', \n",
    "    marker = 'o')\n",
    "ax.set_title('ROC curve for the best model (X4)')\n",
    "ax.set_xlabel(\"False positive rate (1 - Specificity)\"), \n",
    "ax.set_ylabel(\"True positive rate (Sensitivity)\")\n",
    "ax.set_xticks([x/10 for x in range(0,10,1)])\n",
    "ax.set_yticks([x/10 for x in range(0,11,1)])\n",
    "ax.grid(True);"
   ]
  },
  {
   "cell_type": "markdown",
   "metadata": {},
   "source": [
    "**continuous ROC on holdout with best model (Logit 4)**\n",
    "\n",
    "*ggplot*"
   ]
  },
  {
   "cell_type": "code",
   "execution_count": null,
   "metadata": {},
   "outputs": [],
   "source": [
    "create_roc_plot(y_holdout, logit_predicted_probabilities_holdout)"
   ]
  },
  {
   "cell_type": "markdown",
   "metadata": {},
   "source": [
    "*seaborn*"
   ]
  },
  {
   "cell_type": "code",
   "execution_count": null,
   "metadata": {},
   "outputs": [],
   "source": [
    "fpr, tpr, thresholds = roc_curve(y_holdout, logit_predicted_probabilities_holdout)"
   ]
  },
  {
   "cell_type": "code",
   "execution_count": null,
   "metadata": {},
   "outputs": [],
   "source": [
    "df_ = pd.DataFrame({\n",
    "    'fpr': fpr,\n",
    "    'tpr': tpr,\n",
    "    'thresholds': thresholds\n",
    "})"
   ]
  },
  {
   "cell_type": "code",
   "execution_count": null,
   "metadata": {},
   "outputs": [],
   "source": [
    "plt.figure(figsize = (6,6))\n",
    "ax = sns.lineplot(\n",
    "    data = df_,\n",
    "    x = fpr, \n",
    "    y = tpr)\n",
    "ax.set_title('ROC curve for the best model (X4)')\n",
    "ax.set_xlabel(\"False positive rate (1 - Specificity)\"), \n",
    "ax.set_ylabel(\"True positive rate (Sensitivity)\")\n",
    "ax.set_xticks([x/10 for x in range(0,11,1)])\n",
    "ax.set_yticks([x/10 for x in range(0,11,1)])\n",
    "ax.plot(df_.fpr, df_.fpr, color = 'k')\n",
    "ax.grid(True);"
   ]
  },
  {
   "cell_type": "markdown",
   "metadata": {},
   "source": [
    "**Confusion table with different tresholds**"
   ]
  },
  {
   "cell_type": "markdown",
   "metadata": {},
   "source": [
    "default: the threshold 0.5 is used to convert probabilities to binary classes"
   ]
  },
  {
   "cell_type": "code",
   "execution_count": null,
   "metadata": {},
   "outputs": [],
   "source": [
    "logit_class_prediction = best_model.predict(best_model_X_holdout)\n",
    "\n",
    "values, counts = np.unique(logit_class_prediction.tolist(), return_counts=True)\n",
    "print(values[0],' (no default): ',counts[0])\n",
    "print(values[1],' (default): ',counts[1])"
   ]
  },
  {
   "cell_type": "markdown",
   "metadata": {},
   "source": [
    "confusion matrix: summarize different type of errors and successfully predicted cases   \n",
    "positive = \"yes\": explicitly specify the positive case"
   ]
  },
  {
   "cell_type": "code",
   "execution_count": null,
   "metadata": {},
   "outputs": [],
   "source": [
    "cm_object1 = confusion_matrix(y_holdout, logit_class_prediction, labels=[0,1])\n",
    "cm1 = pd.DataFrame(cm_object1, \n",
    "    index=['Actual no default', 'Actual default'], \n",
    "    columns=['Predicted no default', 'Predicted default'])\n",
    "cm1"
   ]
  },
  {
   "cell_type": "markdown",
   "metadata": {},
   "source": [
    "Applying different thresholds\n",
    "\n",
    "- 0.5 same as before"
   ]
  },
  {
   "cell_type": "code",
   "execution_count": null,
   "metadata": {},
   "outputs": [],
   "source": [
    "holdout_prediction = np.where(logit_predicted_probabilities_holdout < 0.5, 0, 1)\n",
    "cm_object1b = confusion_matrix(y_holdout, holdout_prediction, labels=[0,1])\n",
    "cm1b = pd.DataFrame(cm_object1b, \n",
    "    index=['Actual no default', 'Actual default'], \n",
    "    columns=['Predicted no default', 'Predicted default'])\n",
    "cm1b"
   ]
  },
  {
   "cell_type": "code",
   "execution_count": null,
   "metadata": {},
   "outputs": [],
   "source": [
    "print(f'FPR: {round(cm1b.iloc[0,1] / cm1b.iloc[0].sum(), 3)}')"
   ]
  },
  {
   "cell_type": "markdown",
   "metadata": {},
   "source": [
    "- a sensible choice: mean of predicted probabilities"
   ]
  },
  {
   "cell_type": "code",
   "execution_count": null,
   "metadata": {},
   "outputs": [],
   "source": [
    "mean_predicted_default_prob = np.mean(logit_predicted_probabilities_holdout)\n",
    "round(mean_predicted_default_prob, 3)"
   ]
  },
  {
   "cell_type": "code",
   "execution_count": null,
   "metadata": {},
   "outputs": [],
   "source": [
    "holdout_prediction = np.where(logit_predicted_probabilities_holdout < mean_predicted_default_prob, 0, 1)\n",
    "cm_object2 = confusion_matrix(y_holdout, holdout_prediction, labels=[0,1])\n",
    "cm2 = pd.DataFrame(cm_object2, \n",
    "    index=['Actul no defaul', 'Actual default'], \n",
    "    columns=['Predicted no default', 'Predicted default'])\n",
    "cm2"
   ]
  },
  {
   "cell_type": "code",
   "execution_count": null,
   "metadata": {},
   "outputs": [],
   "source": [
    "print(f'FPR: {round(cm2.iloc[0,1] / cm2.iloc[0].sum(), 3)}')"
   ]
  },
  {
   "cell_type": "markdown",
   "metadata": {},
   "source": [
    "#### Calibration curve\n",
    "\n",
    "How well do estimated vs actual event probabilities relate to each other?"
   ]
  },
  {
   "cell_type": "code",
   "execution_count": null,
   "metadata": {},
   "outputs": [],
   "source": [
    "holdout = pd.concat([best_model_X_holdout, y_holdout], axis=1)\n",
    "holdout[\"best_logit_no_loss_pred\"] = logit_predicted_probabilities_holdout\n",
    "create_calibration_plot(\n",
    "    holdout, \n",
    "    # file_name = \"ch17-figure-1-logit-m4-calibration\",\n",
    "    prob_var='best_logit_no_loss_pred', \n",
    "    actual_var='default',\n",
    "    y_lab=\"Actual event probability\", \n",
    "    n_bins=10, \n",
    "    breaks=None)"
   ]
  },
  {
   "cell_type": "markdown",
   "metadata": {},
   "source": [
    "### AUC using a loss function"
   ]
  },
  {
   "cell_type": "markdown",
   "metadata": {},
   "source": [
    "**Loss function**: relative cost of of a false negative classification (as compared with a false positive classification)"
   ]
  },
  {
   "cell_type": "code",
   "execution_count": null,
   "metadata": {},
   "outputs": [],
   "source": [
    "FP = 1\n",
    "FN = 10\n",
    "cost = FN/FP\n",
    "\n",
    "# the prevalence, or the proportion of cases in the population (n.cases/(n.controls+n.cases))\n",
    "prevelance = y_train.sum()/len(y_train)\n",
    "prevelance"
   ]
  },
  {
   "cell_type": "markdown",
   "metadata": {},
   "source": [
    "**Draw ROC Curve and find optimal threshold with loss function**\n",
    "\n",
    "The optimal cut-off is the threshold that maximizes the distance to the identity (diagonal) line"
   ]
  },
  {
   "cell_type": "code",
   "execution_count": null,
   "metadata": {},
   "outputs": [],
   "source": [
    "best_thresholds_cv = dict()\n",
    "expected_loss_cv = dict()\n",
    "fold5_threshold = dict()\n",
    "fold5_expected_loss = dict()\n",
    "fold5_all_coords = dict()\n",
    "\n",
    "for i, model_name in enumerate(logit_models):\n",
    "    best_thresholds = []\n",
    "    expected_loss =[]\n",
    "    if model_name != 'LASSO':\n",
    "        X = logit_model_vars[i]\n",
    "        c_index = 0\n",
    "    else:\n",
    "        X = normalized_logitvars\n",
    "        c_index = best_lambda_i\n",
    "    fold = 0\n",
    "    for train_index, test_index in k.split(X):\n",
    "        X_fold = X.iloc[test_index,:]\n",
    "        y_fold = y_train.iloc[test_index]\n",
    "        pred_fold = generate_fold_prediction(logit_models[model_name], X_fold, fold, c_index)\n",
    "        false_pos_rate, true_pos_rate, thresholds = roc_curve(y_fold, pred_fold)\n",
    "        optimal_threshold = sorted(list(zip(\n",
    "            np.abs(true_pos_rate + (1 - prevelance)/(cost * prevelance)*(1-false_pos_rate)),\\\n",
    "                                       thresholds)), key=lambda i: i[0], reverse=True)[0][1]\n",
    "        best_thresholds.append(optimal_threshold)\n",
    "        threshold_prediction = np.where(pred_fold < optimal_threshold, 0, 1)\n",
    "        tn, fp, fn, tp = confusion_matrix(y_fold, threshold_prediction, labels=[0,1]).ravel()\n",
    "        curr_exp_loss = (fp*FP + fn*FN)/len(y_fold)\n",
    "        expected_loss.append(curr_exp_loss)\n",
    "        fold = fold+1\n",
    "\n",
    "    best_thresholds_cv[model_name] = np.mean(best_thresholds)\n",
    "    expected_loss_cv[model_name] = np.mean(expected_loss)\n",
    "\n",
    "    # for fold #5\n",
    "    fold5_threshold[model_name] = optimal_threshold\n",
    "    fold5_expected_loss[model_name] = curr_exp_loss\n",
    "\n",
    "    all_coords = pd.DataFrame({\n",
    "        'false_pos': false_pos_rate*sum(y_fold == 0),\n",
    "        'true_pos': true_pos_rate*sum(y_fold == 1),\n",
    "        'false_neg': sum(y_fold == 1) - true_pos_rate*sum(y_fold == 1),\n",
    "        'true_neg': sum(y_fold == 0) - false_pos_rate*sum(y_fold == 0),\n",
    "        'pos': sum(y_fold == 1),\n",
    "        'neg': sum(y_fold == 0),\n",
    "        'n': len(y_fold),\n",
    "        'thresholds': thresholds\n",
    "    })\n",
    "    \n",
    "    fold5_all_coords[model_name] = all_coords"
   ]
  },
  {
   "cell_type": "code",
   "execution_count": null,
   "metadata": {},
   "outputs": [],
   "source": [
    "fold5_all_coords['X1']"
   ]
  },
  {
   "cell_type": "code",
   "execution_count": null,
   "metadata": {},
   "outputs": [],
   "source": [
    "logit_summary2 = pd.DataFrame(best_thresholds_cv.items(),columns=['Model', 'Avg of optimal thresholds'])\n",
    "logit_summary2['Threshold for Fold5'] = fold5_threshold.values()\n",
    "logit_summary2['Avg expected loss'] = expected_loss_cv.values()\n",
    "logit_summary2['Expected loss for Fold5'] = fold5_expected_loss.values()"
   ]
  },
  {
   "cell_type": "code",
   "execution_count": null,
   "metadata": {},
   "outputs": [],
   "source": [
    "logit_summary2"
   ]
  },
  {
   "cell_type": "markdown",
   "metadata": {},
   "source": [
    "### Loss plot based on Fold5 in CV"
   ]
  },
  {
   "cell_type": "code",
   "execution_count": null,
   "metadata": {},
   "outputs": [],
   "source": [
    "model_to_plot = 'X1'\n",
    "create_loss_plot(\n",
    "    fold5_all_coords[model_to_plot], \n",
    "    fold5_threshold[model_to_plot], \n",
    "    fold5_expected_loss[model_to_plot])"
   ]
  },
  {
   "cell_type": "markdown",
   "metadata": {},
   "source": [
    "#### ROC plot plot based on Fold5 in CV"
   ]
  },
  {
   "cell_type": "code",
   "execution_count": null,
   "metadata": {},
   "outputs": [],
   "source": [
    "model_to_plot = 'X1'\n",
    "create_roc_plot_with_optimal(fold5_all_coords[model_to_plot], fold5_threshold[model_to_plot])"
   ]
  },
  {
   "cell_type": "markdown",
   "metadata": {},
   "source": [
    "#### Pick best model based on average expected loss\n",
    "\n",
    "### X4"
   ]
  },
  {
   "cell_type": "code",
   "execution_count": null,
   "metadata": {},
   "outputs": [],
   "source": [
    "best_logit_optimal_treshold = best_thresholds_cv[\"X4\"]\n",
    "best_logit_optimal_treshold"
   ]
  },
  {
   "cell_type": "markdown",
   "metadata": {},
   "source": [
    "**Get expected loss on holdout**"
   ]
  },
  {
   "cell_type": "code",
   "execution_count": null,
   "metadata": {},
   "outputs": [],
   "source": [
    "holdout_treshold = np.where(logit_predicted_probabilities_holdout < best_logit_optimal_treshold, 0, 1)\n",
    "tn, fp, fn, tp = confusion_matrix(y_holdout, holdout_treshold, labels=[0,1]).ravel()\n",
    "expected_loss_holdout = (fp*FP + fn*FN)/len(y_holdout)\n",
    "round(expected_loss_holdout, 3)"
   ]
  },
  {
   "cell_type": "code",
   "execution_count": null,
   "metadata": {},
   "outputs": [],
   "source": [
    "cm_object3 = confusion_matrix(y_holdout, holdout_treshold, labels=[0,1])\n",
    "cm3 = pd.DataFrame(cm_object3, \n",
    "    index=['Actul no defaul', 'Actual default'], \n",
    "    columns=['Predicted no default', 'Predicted default'])\n",
    "cm3"
   ]
  },
  {
   "cell_type": "code",
   "execution_count": null,
   "metadata": {},
   "outputs": [],
   "source": [
    "print(f'FPR: {round(cm3.iloc[0,1] / cm3.iloc[0].sum(), 3)}')"
   ]
  },
  {
   "cell_type": "markdown",
   "metadata": {},
   "source": [
    "### Prediction with random forest "
   ]
  },
  {
   "cell_type": "code",
   "execution_count": null,
   "metadata": {},
   "outputs": [],
   "source": [
    "rfvars_train = rfvars.iloc[index_train]\n",
    "rfvars_holdout = rfvars.iloc[index_holdout]"
   ]
  },
  {
   "cell_type": "code",
   "execution_count": null,
   "metadata": {},
   "outputs": [],
   "source": [
    "rfvars_train.columns"
   ]
  },
  {
   "cell_type": "markdown",
   "metadata": {},
   "source": [
    "#### Graph example"
   ]
  },
  {
   "cell_type": "code",
   "execution_count": null,
   "metadata": {},
   "outputs": [],
   "source": [
    "%%time \n",
    "from sklearn.tree import DecisionTreeClassifier\n",
    "from sklearn.tree import plot_tree\n",
    "\n",
    "data_for_graph = rfvars_train[['sales_mil','profit_loss_year','foreign_management']]\n",
    "rf_for_graph = DecisionTreeClassifier(\n",
    "    ccp_alpha=0.0028, \n",
    "    min_samples_leaf=100, \n",
    "    max_depth=3, \n",
    "    random_state=41).fit(\n",
    "    data_for_graph, \n",
    "    y_train)\n",
    "\n",
    "plt.figure()\n",
    "plt.figure(figsize=(11,11))\n",
    "plot_tree(rf_for_graph, \n",
    "          feature_names = data_for_graph.columns, \n",
    "          filled=True, \n",
    "          rounded=True, \n",
    "          proportion=True, \n",
    "          fontsize = 10)\n",
    "plt.title(\"Decision trees\")\n",
    "plt.show() "
   ]
  },
  {
   "cell_type": "markdown",
   "metadata": {},
   "source": [
    "### Probability forest\n",
    "\n",
    "A random forest is a meta estimator that fits a number of decision tree classifiers on various sub-samples of the dataset and uses averaging to improve the predictive accuracy and control over-fitting. The sub-sample size is controlled with the `max_samples` parameter if `bootstrap = True` (default), otherwise the whole dataset is used to build each tree.\n",
    "- `max_features`: number of features to consider when looking for the best split\n",
    "- `min_samples_fit`: the minimum number of samples required`to split an internal node"
   ]
  },
  {
   "cell_type": "code",
   "execution_count": null,
   "metadata": {},
   "outputs": [],
   "source": [
    "grid = {'max_features': [5, 6, 7],\n",
    "        'criterion':['gini'],\n",
    "        'min_samples_split': [11, 16]}"
   ]
  },
  {
   "cell_type": "code",
   "execution_count": null,
   "metadata": {},
   "outputs": [],
   "source": [
    "prob_forest = RandomForestClassifier(\n",
    "    random_state=20240205, \n",
    "    n_estimators=500, \n",
    "    oob_score=True)\n",
    "\n",
    "prob_forest_grid = GridSearchCV(\n",
    "    prob_forest, \n",
    "    grid, \n",
    "    cv=k, \n",
    "    refit='accuracy',\n",
    "    scoring = ['accuracy', 'roc_auc', 'neg_brier_score'], \n",
    "    n_jobs=-1)"
   ]
  },
  {
   "cell_type": "code",
   "execution_count": null,
   "metadata": {},
   "outputs": [],
   "source": [
    "%%time\n",
    "prob_forest_fit = prob_forest_grid.fit(rfvars_train, y_train)"
   ]
  },
  {
   "cell_type": "markdown",
   "metadata": {},
   "source": [
    "**CV summary table**"
   ]
  },
  {
   "cell_type": "code",
   "execution_count": null,
   "metadata": {},
   "outputs": [],
   "source": [
    "prob_forest_fit.cv_results_"
   ]
  },
  {
   "cell_type": "markdown",
   "metadata": {},
   "source": [
    "Our grid has 3x2=6 elements. "
   ]
  },
  {
   "cell_type": "code",
   "execution_count": null,
   "metadata": {},
   "outputs": [],
   "source": [
    "cv_accuracy = np.zeros([6])\n",
    "for i in range(5):\n",
    "    cv_accuracy = cv_accuracy + prob_forest_fit.cv_results_['split' + str(i) + '_test_accuracy']\n",
    "cv_accuracy = cv_accuracy/5\n",
    "cv_accuracy"
   ]
  },
  {
   "cell_type": "code",
   "execution_count": null,
   "metadata": {},
   "outputs": [],
   "source": [
    "prob_forest_fit.best_score_"
   ]
  },
  {
   "cell_type": "code",
   "execution_count": null,
   "metadata": {},
   "outputs": [],
   "source": [
    "cv_auc = np.zeros([6])\n",
    "for i in range(5):\n",
    "    cv_auc = cv_auc + prob_forest_fit.cv_results_['split' + str(i) + '_test_roc_auc']\n",
    "cv_auc = cv_auc/5\n",
    "cv_auc"
   ]
  },
  {
   "cell_type": "code",
   "execution_count": null,
   "metadata": {},
   "outputs": [],
   "source": [
    "cv_rmse = np.zeros([6])\n",
    "for i in range(5):\n",
    "    cv_rmse = cv_rmse +np.sqrt(-1*(prob_forest_fit.cv_results_['split' + str(i) + '_test_neg_brier_score'])).tolist()\n",
    "cv_rmse = cv_rmse/5\n",
    "cv_rmse"
   ]
  },
  {
   "cell_type": "code",
   "execution_count": null,
   "metadata": {},
   "outputs": [],
   "source": [
    "prob_forest_cv_results = pd.DataFrame({\n",
    "    'max_features': prob_forest_fit.cv_results_['param_max_features'],\n",
    "    'min_samples_split': prob_forest_fit.cv_results_['param_min_samples_split'],\n",
    "    'cv_accuracy': cv_accuracy,\n",
    "    'cv_auc': cv_auc,\n",
    "    'cv_rmse': cv_rmse\n",
    "})"
   ]
  },
  {
   "cell_type": "code",
   "execution_count": null,
   "metadata": {},
   "outputs": [],
   "source": [
    "prob_forest_cv_results"
   ]
  },
  {
   "cell_type": "markdown",
   "metadata": {},
   "source": [
    "**Optimal parameter values**"
   ]
  },
  {
   "cell_type": "code",
   "execution_count": null,
   "metadata": {},
   "outputs": [],
   "source": [
    "best_max_features = prob_forest_fit.best_params_['max_features']\n",
    "best_min_sample_split = prob_forest_fit.best_params_['min_samples_split']\n",
    "prob_forest_fit.best_params_"
   ]
  },
  {
   "cell_type": "markdown",
   "metadata": {},
   "source": [
    "**Average RMSE and AUC over folds**"
   ]
  },
  {
   "cell_type": "code",
   "execution_count": null,
   "metadata": {},
   "outputs": [],
   "source": [
    "prob_forest_best_results = prob_forest_cv_results[\n",
    "    (prob_forest_cv_results.max_features == best_max_features) & \n",
    "    (prob_forest_cv_results.min_samples_split == best_min_sample_split)]\n",
    "prob_forest_best_results_index = prob_forest_best_results.index.values[0]\n",
    "\n",
    "CV_RMSE['rf_p'] = prob_forest_best_results.cv_rmse.values[0]\n",
    "CV_AUC['rf_p'] = prob_forest_best_results.cv_auc.values[0]"
   ]
  },
  {
   "cell_type": "code",
   "execution_count": null,
   "metadata": {},
   "outputs": [],
   "source": [
    "CV_RMSE"
   ]
  },
  {
   "cell_type": "code",
   "execution_count": null,
   "metadata": {},
   "outputs": [],
   "source": [
    "CV_AUC"
   ]
  },
  {
   "cell_type": "markdown",
   "metadata": {},
   "source": [
    "**Get fold level RMSE and AUC**"
   ]
  },
  {
   "cell_type": "code",
   "execution_count": null,
   "metadata": {},
   "outputs": [],
   "source": [
    "CV_RMSE_folds_rf_p = list()\n",
    "\n",
    "for i in range(5):\n",
    "    rmse = np.sqrt(-1*(prob_forest_fit.cv_results_['split' + str(i) + '_test_neg_brier_score'])).tolist()[prob_forest_best_results_index]\n",
    "    CV_RMSE_folds_rf_p.append(rmse)\n",
    "\n",
    "CV_RMSE_folds['rf_p'] = CV_RMSE_folds_rf_p\n",
    "\n",
    "CV_AUC_folds_rf_p = list()\n",
    "\n",
    "for i in range(5):\n",
    "    rmse = prob_forest_fit.cv_results_['split' + str(i) + '_test_roc_auc'][prob_forest_best_results_index]\n",
    "    CV_AUC_folds_rf_p.append(rmse)\n",
    "\n",
    "CV_AUC_folds['rf_p'] = CV_AUC_folds_rf_p"
   ]
  },
  {
   "cell_type": "code",
   "execution_count": null,
   "metadata": {},
   "outputs": [],
   "source": [
    "pd.DataFrame(CV_AUC_folds)"
   ]
  },
  {
   "cell_type": "markdown",
   "metadata": {},
   "source": [
    "**Now use loss function and search for best thresholds and expected loss over folds**"
   ]
  },
  {
   "cell_type": "code",
   "execution_count": null,
   "metadata": {},
   "outputs": [],
   "source": [
    "best_thresholds = list()\n",
    "expected_loss = list()\n",
    "\n",
    "fold = 0\n",
    "for train_index, test_index in k.split(rfvars_train):\n",
    "    X_fold = rfvars_train.iloc[test_index,:]\n",
    "    y_fold = y_train.iloc[test_index]\n",
    "    \n",
    "    X_fold_train = rfvars_train.iloc[train_index,:]\n",
    "    y_fold_train = y_train.iloc[train_index]\n",
    "    \n",
    "    prob_forest_best = RandomForestClassifier(\n",
    "        random_state=20240205, \n",
    "        n_estimators=500, \n",
    "        oob_score=True,\n",
    "        criterion = 'gini', \n",
    "        max_features = best_max_features, min_samples_split = best_min_sample_split)\n",
    "    \n",
    "    prob_forest_best_fold = prob_forest_best.fit(X_fold_train, y_fold_train)\n",
    "    pred_fold = prob_forest_best_fold.predict_proba(X_fold)[:,1]\n",
    "\n",
    "    false_pos_rate, true_pos_rate, threshold = roc_curve(y_fold, pred_fold)\n",
    "    \n",
    "    best_threshold = sorted(\n",
    "        list(\n",
    "            zip(\n",
    "                np.abs(\n",
    "                    true_pos_rate + (1 - prevelance)/(cost * prevelance)*(1-false_pos_rate)\n",
    "                ),\n",
    "                threshold\n",
    "            )\n",
    "        ), \n",
    "        key=lambda x: x[0], reverse=True)[0][1]\n",
    "    \n",
    "    best_thresholds.append(best_threshold)\n",
    "    \n",
    "    threshold_prediction = np.where(pred_fold < best_threshold, 0, 1)\n",
    "    tn, fp, fn, tp = confusion_matrix(y_fold, threshold_prediction, labels=[0,1]).ravel()\n",
    "    curr_exp_loss = (fp*FP + fn*FN)/len(y_fold)\n",
    "    expected_loss.append(curr_exp_loss)"
   ]
  },
  {
   "cell_type": "code",
   "execution_count": null,
   "metadata": {},
   "outputs": [],
   "source": [
    "best_thresholds"
   ]
  },
  {
   "cell_type": "code",
   "execution_count": null,
   "metadata": {},
   "outputs": [],
   "source": [
    "expected_loss"
   ]
  },
  {
   "cell_type": "code",
   "execution_count": null,
   "metadata": {},
   "outputs": [],
   "source": [
    "fold5_threshold_rf = best_threshold\n",
    "fold5_expected_loss_rf = curr_exp_loss\n",
    "\n",
    "all_coords_rf = pd.DataFrame({\n",
    "    'false_pos': false_pos_rate*sum(y_fold == 0),\n",
    "    'true_pos': true_pos_rate*sum(y_fold == 1),\n",
    "    'false_neg': sum(y_fold == 1) - true_pos_rate*sum(y_fold == 1),\n",
    "    'true_neg': sum(y_fold == 0) - false_pos_rate*sum(y_fold == 0),\n",
    "    'pos': sum(y_fold == 1),\n",
    "    'neg': sum(y_fold == 0),\n",
    "    'n': len(y_fold),\n",
    "    'thresholds': threshold\n",
    "})\n",
    "\n",
    "all_coords_rf"
   ]
  },
  {
   "cell_type": "code",
   "execution_count": null,
   "metadata": {},
   "outputs": [],
   "source": [
    "fold5_threshold_rf = best_threshold\n",
    "fold5_expected_loss_rf = curr_exp_loss\n",
    "\n",
    "all_coords_rf = pd.DataFrame({\n",
    "    'false_pos': false_pos_rate*sum(y_fold == 0),\n",
    "    'true_pos': true_pos_rate*sum(y_fold == 1),\n",
    "    'false_neg': sum(y_fold == 1) - true_pos_rate*sum(y_fold == 1),\n",
    "    'true_neg': sum(y_fold == 0) - false_pos_rate*sum(y_fold == 0),\n",
    "    'pos': sum(y_fold == 1),\n",
    "    'neg': sum(y_fold == 0),\n",
    "    'n': len(y_fold),\n",
    "    'thresholds': threshold\n",
    "})"
   ]
  },
  {
   "cell_type": "code",
   "execution_count": null,
   "metadata": {},
   "outputs": [],
   "source": [
    "expected_loss_cv['rf_p'] = np.mean(expected_loss)\n",
    "best_thresholds_cv['rf_p'] = np.mean(best_thresholds)"
   ]
  },
  {
   "cell_type": "code",
   "execution_count": null,
   "metadata": {},
   "outputs": [],
   "source": [
    "rf_summary = pd.DataFrame(\n",
    "    {'CV RMSE': [round(CV_RMSE['rf_p'], 3)],\n",
    "     'CV AUC': [round(CV_AUC['rf_p'], 3)],\n",
    "     'Avg of optimal thresholds': [round(best_thresholds_cv['rf_p'], 3)],\n",
    "     'Threshold for Fold5': [round(best_threshold, 3)],\n",
    "     'Avg expected loss': [round(expected_loss_cv['rf_p'], 3)],\n",
    "     'Expected loss for Fold5': [round(curr_exp_loss, 3)]})\n",
    "\n",
    "rf_summary"
   ]
  },
  {
   "cell_type": "markdown",
   "metadata": {},
   "source": [
    "**Plots based on Fold5 in CV**"
   ]
  },
  {
   "cell_type": "code",
   "execution_count": null,
   "metadata": {},
   "outputs": [],
   "source": [
    "create_loss_plot(all_coords_rf, fold5_threshold_rf, fold5_expected_loss_rf)"
   ]
  },
  {
   "cell_type": "code",
   "execution_count": null,
   "metadata": {},
   "outputs": [],
   "source": [
    "create_roc_plot_with_optimal(all_coords_rf, fold5_threshold_rf)"
   ]
  },
  {
   "cell_type": "markdown",
   "metadata": {},
   "source": [
    "**Take model to holdout and estimate RMSE, AUC and expected loss**"
   ]
  },
  {
   "cell_type": "code",
   "execution_count": null,
   "metadata": {},
   "outputs": [],
   "source": [
    "prob_forest_fit_best = prob_forest_fit.best_estimator_\n",
    "rf_predicted_probabilities_holdout = prob_forest_fit_best.predict_proba(rfvars_holdout)[:,1]\n",
    "rmse_rf = np.sqrt(mean_squared_error(y_holdout, rf_predicted_probabilities_holdout))\n",
    "round(rmse_rf, 3)"
   ]
  },
  {
   "cell_type": "markdown",
   "metadata": {},
   "source": [
    "**ROC AUC  on holdout**"
   ]
  },
  {
   "cell_type": "code",
   "execution_count": null,
   "metadata": {},
   "outputs": [],
   "source": [
    "auc_rf = roc_auc_score(y_holdout, rf_predicted_probabilities_holdout)\n",
    "round(auc_rf, 3)"
   ]
  },
  {
   "cell_type": "markdown",
   "metadata": {},
   "source": [
    "**Expected loss on holdout**"
   ]
  },
  {
   "cell_type": "code",
   "execution_count": null,
   "metadata": {},
   "outputs": [],
   "source": [
    "holdout_treshold = np.where(rf_predicted_probabilities_holdout < best_thresholds_cv['rf_p'], 0, 1)\n",
    "tn, fp, fn, tp = confusion_matrix(y_holdout, holdout_treshold, labels=[0,1]).ravel()\n",
    "expected_loss_holdout = (fp*FP + fn*FN)/len(y_holdout)\n",
    "round(expected_loss_holdout, 3)"
   ]
  },
  {
   "cell_type": "code",
   "execution_count": null,
   "metadata": {},
   "outputs": [],
   "source": [
    "import datetime\n",
    "print(datetime.datetime.now())"
   ]
  },
  {
   "cell_type": "markdown",
   "metadata": {},
   "source": [
    "### Getting probalbilities and classifications from RandomforestClassifier\n",
    "\n",
    "- classes"
   ]
  },
  {
   "cell_type": "code",
   "execution_count": null,
   "metadata": {},
   "outputs": [],
   "source": [
    "prob_forest_best_fold.predict(rfvars_holdout)"
   ]
  },
  {
   "cell_type": "markdown",
   "metadata": {},
   "source": [
    "- probabilities"
   ]
  },
  {
   "cell_type": "code",
   "execution_count": null,
   "metadata": {},
   "outputs": [],
   "source": [
    "prob_forest_best_fold.predict_proba(rfvars_holdout)"
   ]
  },
  {
   "cell_type": "markdown",
   "metadata": {},
   "source": [
    "## Final results"
   ]
  },
  {
   "cell_type": "code",
   "execution_count": null,
   "metadata": {},
   "outputs": [],
   "source": [
    "nvars['rf_p'] = len(rfvars.columns)"
   ]
  },
  {
   "cell_type": "code",
   "execution_count": null,
   "metadata": {},
   "outputs": [],
   "source": [
    "summary_results = pd.DataFrame({\"Model\": list(nvars.keys()),\n",
    "                              \"Number of predictors\": list(nvars.values()),\n",
    "                              \"CV RMSE\": list(CV_RMSE.values()),\n",
    "                              \"CV AUC\": list(CV_AUC.values()),\n",
    "                              \"CV threshold\": list(best_thresholds_cv.values()),\n",
    "                              \"CV expected Loss\": list(expected_loss_cv.values())\n",
    "                               })"
   ]
  },
  {
   "cell_type": "code",
   "execution_count": null,
   "metadata": {},
   "outputs": [],
   "source": [
    "summary_results"
   ]
  },
  {
   "cell_type": "code",
   "execution_count": null,
   "metadata": {},
   "outputs": [],
   "source": []
  }
 ],
 "metadata": {
  "kernelspec": {
   "display_name": "Python 3 (ipykernel)",
   "language": "python",
   "name": "python3"
  },
  "language_info": {
   "codemirror_mode": {
    "name": "ipython",
    "version": 3
   },
   "file_extension": ".py",
   "mimetype": "text/x-python",
   "name": "python",
   "nbconvert_exporter": "python",
   "pygments_lexer": "ipython3",
   "version": "3.11.4"
  }
 },
 "nbformat": 4,
 "nbformat_minor": 4
}
